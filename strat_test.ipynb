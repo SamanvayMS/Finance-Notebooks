{
 "cells": [
  {
   "cell_type": "code",
   "execution_count": 1,
   "metadata": {},
   "outputs": [],
   "source": [
    "import pandas_datareader.data as reader\n",
    "import datetime as dt\n",
    "import numpy as np\n",
    "import pandas as pd\n",
    "import matplotlib.pyplot as plt\n",
    "from ta import add_all_ta_features\n",
    "from ta.utils import dropna\n",
    "from sklearn.preprocessing import MinMaxScaler\n",
    "import yfinance as yf #manual fix found on website linked below ******* need to update pandas datareader too before below fix\n",
    "yf.pdr_override() #https://stackoverflow.com/questions/74832296/typeerror-string-indices-must-be-integers-when-getting-data-of-a-stock-from-y"
   ]
  },
  {
   "cell_type": "code",
   "execution_count": 2,
   "metadata": {},
   "outputs": [
    {
     "name": "stdout",
     "output_type": "stream",
     "text": [
      "[*********************100%***********************]  1 of 1 completed\n"
     ]
    }
   ],
   "source": [
    "def data_prep(Symbols,start,end,bullish_threshold,bearish_threshold):\n",
    "  df = reader.get_data_yahoo(Symbols,start,end,auto_adjust=True)\n",
    "  df['returns'] = df['Close'].pct_change() # total returns\n",
    "  df['bullish'] = np.where(df['returns']>bullish_threshold,1,0)\n",
    "  df['bearish'] = np.where(df['returns']<bearish_threshold,1,0)\n",
    "  df['neutral'] = np.where((df['returns']>= bearish_threshold) & (df['returns'] <= bullish_threshold),1,0)\n",
    "  df.drop(columns=['returns'],inplace=True)\n",
    "  df.dropna(axis=0,inplace=True)\n",
    "  return df\n",
    "\n",
    "Symbol = ['INFY.NS']\n",
    "start = dt.date(2000,1,1)\n",
    "end = dt.date(2009,1,1)\n",
    "\n",
    "df = data_prep(Symbol,start,end,0.01,-0.01)"
   ]
  }
 ],
 "metadata": {
  "kernelspec": {
   "display_name": "venv",
   "language": "python",
   "name": "python3"
  },
  "language_info": {
   "codemirror_mode": {
    "name": "ipython",
    "version": 3
   },
   "file_extension": ".py",
   "mimetype": "text/x-python",
   "name": "python",
   "nbconvert_exporter": "python",
   "pygments_lexer": "ipython3",
   "version": "3.9.15"
  },
  "orig_nbformat": 4,
  "vscode": {
   "interpreter": {
    "hash": "9e4d78865620687f9286eb1a3f5edaf36ac915bab68a95e5183a365f1b9509d1"
   }
  }
 },
 "nbformat": 4,
 "nbformat_minor": 2
}
