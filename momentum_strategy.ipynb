{
  "nbformat": 4,
  "nbformat_minor": 0,
  "metadata": {
    "colab": {
      "provenance": []
    },
    "kernelspec": {
      "name": "python3",
      "display_name": "Python 3"
    },
    "language_info": {
      "name": "python"
    }
  },
  "cells": [
    {
      "cell_type": "code",
      "source": [
        "pip install yfinance"
      ],
      "metadata": {
        "id": "BU-BV8ddHcIm"
      },
      "execution_count": null,
      "outputs": []
    },
    {
      "cell_type": "code",
      "source": [
        "pip install update pandas_datareader"
      ],
      "metadata": {
        "id": "wcgIoJ17HhLk"
      },
      "execution_count": null,
      "outputs": []
    },
    {
      "cell_type": "code",
      "execution_count": null,
      "metadata": {
        "id": "juWucJytDV0h"
      },
      "outputs": [],
      "source": [
        "import pandas_datareader.data as reader\n",
        "import datetime as dt\n",
        "import matplotlib.pyplot as plt\n",
        "\n",
        "import yfinance as yf #manual fix found on website linked below ******* need to update pandas datareader too before below fix\n",
        "yf.pdr_override() #https://stackoverflow.com/questions/74832296/typeerror-string-indices-must-be-integers-when-getting-data-of-a-stock-from-y"
      ]
    },
    {
      "cell_type": "code",
      "source": [
        "start = dt.date(2020,5,1)\n",
        "end = dt.datetime.now()\n",
        "stocks=['AAPL','MSFT']"
      ],
      "metadata": {
        "id": "lQk0BYq7DugK"
      },
      "execution_count": null,
      "outputs": []
    },
    {
      "cell_type": "code",
      "source": [
        "df = reader.get_data_yahoo(stocks,start,end)[\"Adj Close\"]\n"
      ],
      "metadata": {
        "colab": {
          "base_uri": "https://localhost:8080/"
        },
        "id": "k7AWxhiOD_qL",
        "outputId": "26b3bd26-6f0f-4d6f-ab3e-f5406e20b60a"
      },
      "execution_count": null,
      "outputs": [
        {
          "output_type": "stream",
          "name": "stdout",
          "text": [
            "[*********************100%***********************]  2 of 2 completed\n"
          ]
        }
      ]
    },
    {
      "cell_type": "code",
      "source": [
        "df\n"
      ],
      "metadata": {
        "colab": {
          "base_uri": "https://localhost:8080/",
          "height": 450
        },
        "id": "xJW0jXzUH1ap",
        "outputId": "0a8088e6-eb8c-48c1-dde6-76aac324eb4c"
      },
      "execution_count": null,
      "outputs": [
        {
          "output_type": "execute_result",
          "data": {
            "text/plain": [
              "                                 AAPL        MSFT\n",
              "Date                                             \n",
              "2020-05-01 00:00:00-04:00   70.966866  170.177429\n",
              "2020-05-04 00:00:00-04:00   71.970985  174.339981\n",
              "2020-05-05 00:00:00-04:00   73.051186  176.211700\n",
              "2020-05-06 00:00:00-04:00   73.804871  177.946899\n",
              "2020-05-07 00:00:00-04:00   74.568367  178.980240\n",
              "...                               ...         ...\n",
              "2023-01-18 00:00:00-05:00  135.210007  235.809998\n",
              "2023-01-19 00:00:00-05:00  135.270004  231.929993\n",
              "2023-01-20 00:00:00-05:00  137.869995  240.220001\n",
              "2023-01-23 00:00:00-05:00  141.110001  242.580002\n",
              "2023-01-24 00:00:00-05:00  142.860001  242.679993\n",
              "\n",
              "[688 rows x 2 columns]"
            ],
            "text/html": [
              "\n",
              "  <div id=\"df-683e7c38-fa8d-43fb-bb8e-08a734129b66\">\n",
              "    <div class=\"colab-df-container\">\n",
              "      <div>\n",
              "<style scoped>\n",
              "    .dataframe tbody tr th:only-of-type {\n",
              "        vertical-align: middle;\n",
              "    }\n",
              "\n",
              "    .dataframe tbody tr th {\n",
              "        vertical-align: top;\n",
              "    }\n",
              "\n",
              "    .dataframe thead th {\n",
              "        text-align: right;\n",
              "    }\n",
              "</style>\n",
              "<table border=\"1\" class=\"dataframe\">\n",
              "  <thead>\n",
              "    <tr style=\"text-align: right;\">\n",
              "      <th></th>\n",
              "      <th>AAPL</th>\n",
              "      <th>MSFT</th>\n",
              "    </tr>\n",
              "    <tr>\n",
              "      <th>Date</th>\n",
              "      <th></th>\n",
              "      <th></th>\n",
              "    </tr>\n",
              "  </thead>\n",
              "  <tbody>\n",
              "    <tr>\n",
              "      <th>2020-05-01 00:00:00-04:00</th>\n",
              "      <td>70.966866</td>\n",
              "      <td>170.177429</td>\n",
              "    </tr>\n",
              "    <tr>\n",
              "      <th>2020-05-04 00:00:00-04:00</th>\n",
              "      <td>71.970985</td>\n",
              "      <td>174.339981</td>\n",
              "    </tr>\n",
              "    <tr>\n",
              "      <th>2020-05-05 00:00:00-04:00</th>\n",
              "      <td>73.051186</td>\n",
              "      <td>176.211700</td>\n",
              "    </tr>\n",
              "    <tr>\n",
              "      <th>2020-05-06 00:00:00-04:00</th>\n",
              "      <td>73.804871</td>\n",
              "      <td>177.946899</td>\n",
              "    </tr>\n",
              "    <tr>\n",
              "      <th>2020-05-07 00:00:00-04:00</th>\n",
              "      <td>74.568367</td>\n",
              "      <td>178.980240</td>\n",
              "    </tr>\n",
              "    <tr>\n",
              "      <th>...</th>\n",
              "      <td>...</td>\n",
              "      <td>...</td>\n",
              "    </tr>\n",
              "    <tr>\n",
              "      <th>2023-01-18 00:00:00-05:00</th>\n",
              "      <td>135.210007</td>\n",
              "      <td>235.809998</td>\n",
              "    </tr>\n",
              "    <tr>\n",
              "      <th>2023-01-19 00:00:00-05:00</th>\n",
              "      <td>135.270004</td>\n",
              "      <td>231.929993</td>\n",
              "    </tr>\n",
              "    <tr>\n",
              "      <th>2023-01-20 00:00:00-05:00</th>\n",
              "      <td>137.869995</td>\n",
              "      <td>240.220001</td>\n",
              "    </tr>\n",
              "    <tr>\n",
              "      <th>2023-01-23 00:00:00-05:00</th>\n",
              "      <td>141.110001</td>\n",
              "      <td>242.580002</td>\n",
              "    </tr>\n",
              "    <tr>\n",
              "      <th>2023-01-24 00:00:00-05:00</th>\n",
              "      <td>142.860001</td>\n",
              "      <td>242.679993</td>\n",
              "    </tr>\n",
              "  </tbody>\n",
              "</table>\n",
              "<p>688 rows × 2 columns</p>\n",
              "</div>\n",
              "      <button class=\"colab-df-convert\" onclick=\"convertToInteractive('df-683e7c38-fa8d-43fb-bb8e-08a734129b66')\"\n",
              "              title=\"Convert this dataframe to an interactive table.\"\n",
              "              style=\"display:none;\">\n",
              "        \n",
              "  <svg xmlns=\"http://www.w3.org/2000/svg\" height=\"24px\"viewBox=\"0 0 24 24\"\n",
              "       width=\"24px\">\n",
              "    <path d=\"M0 0h24v24H0V0z\" fill=\"none\"/>\n",
              "    <path d=\"M18.56 5.44l.94 2.06.94-2.06 2.06-.94-2.06-.94-.94-2.06-.94 2.06-2.06.94zm-11 1L8.5 8.5l.94-2.06 2.06-.94-2.06-.94L8.5 2.5l-.94 2.06-2.06.94zm10 10l.94 2.06.94-2.06 2.06-.94-2.06-.94-.94-2.06-.94 2.06-2.06.94z\"/><path d=\"M17.41 7.96l-1.37-1.37c-.4-.4-.92-.59-1.43-.59-.52 0-1.04.2-1.43.59L10.3 9.45l-7.72 7.72c-.78.78-.78 2.05 0 2.83L4 21.41c.39.39.9.59 1.41.59.51 0 1.02-.2 1.41-.59l7.78-7.78 2.81-2.81c.8-.78.8-2.07 0-2.86zM5.41 20L4 18.59l7.72-7.72 1.47 1.35L5.41 20z\"/>\n",
              "  </svg>\n",
              "      </button>\n",
              "      \n",
              "  <style>\n",
              "    .colab-df-container {\n",
              "      display:flex;\n",
              "      flex-wrap:wrap;\n",
              "      gap: 12px;\n",
              "    }\n",
              "\n",
              "    .colab-df-convert {\n",
              "      background-color: #E8F0FE;\n",
              "      border: none;\n",
              "      border-radius: 50%;\n",
              "      cursor: pointer;\n",
              "      display: none;\n",
              "      fill: #1967D2;\n",
              "      height: 32px;\n",
              "      padding: 0 0 0 0;\n",
              "      width: 32px;\n",
              "    }\n",
              "\n",
              "    .colab-df-convert:hover {\n",
              "      background-color: #E2EBFA;\n",
              "      box-shadow: 0px 1px 2px rgba(60, 64, 67, 0.3), 0px 1px 3px 1px rgba(60, 64, 67, 0.15);\n",
              "      fill: #174EA6;\n",
              "    }\n",
              "\n",
              "    [theme=dark] .colab-df-convert {\n",
              "      background-color: #3B4455;\n",
              "      fill: #D2E3FC;\n",
              "    }\n",
              "\n",
              "    [theme=dark] .colab-df-convert:hover {\n",
              "      background-color: #434B5C;\n",
              "      box-shadow: 0px 1px 3px 1px rgba(0, 0, 0, 0.15);\n",
              "      filter: drop-shadow(0px 1px 2px rgba(0, 0, 0, 0.3));\n",
              "      fill: #FFFFFF;\n",
              "    }\n",
              "  </style>\n",
              "\n",
              "      <script>\n",
              "        const buttonEl =\n",
              "          document.querySelector('#df-683e7c38-fa8d-43fb-bb8e-08a734129b66 button.colab-df-convert');\n",
              "        buttonEl.style.display =\n",
              "          google.colab.kernel.accessAllowed ? 'block' : 'none';\n",
              "\n",
              "        async function convertToInteractive(key) {\n",
              "          const element = document.querySelector('#df-683e7c38-fa8d-43fb-bb8e-08a734129b66');\n",
              "          const dataTable =\n",
              "            await google.colab.kernel.invokeFunction('convertToInteractive',\n",
              "                                                     [key], {});\n",
              "          if (!dataTable) return;\n",
              "\n",
              "          const docLinkHtml = 'Like what you see? Visit the ' +\n",
              "            '<a target=\"_blank\" href=https://colab.research.google.com/notebooks/data_table.ipynb>data table notebook</a>'\n",
              "            + ' to learn more about interactive tables.';\n",
              "          element.innerHTML = '';\n",
              "          dataTable['output_type'] = 'display_data';\n",
              "          await google.colab.output.renderOutput(dataTable, element);\n",
              "          const docLink = document.createElement('div');\n",
              "          docLink.innerHTML = docLinkHtml;\n",
              "          element.appendChild(docLink);\n",
              "        }\n",
              "      </script>\n",
              "    </div>\n",
              "  </div>\n",
              "  "
            ]
          },
          "metadata": {},
          "execution_count": 7
        }
      ]
    },
    {
      "cell_type": "code",
      "source": [
        "df.plot()\n",
        "plt.show()"
      ],
      "metadata": {
        "colab": {
          "base_uri": "https://localhost:8080/",
          "height": 279
        },
        "id": "asqjHT66IcxP",
        "outputId": "ff8c1125-c5dc-4832-af69-6331de6918eb"
      },
      "execution_count": null,
      "outputs": [
        {
          "output_type": "display_data",
          "data": {
            "text/plain": [
              "<Figure size 432x288 with 1 Axes>"
            ],
            "image/png": "[encoded data removed]"
          },
          "metadata": {
            "needs_background": "light"
          }
        }
      ]
    },
    {
      "cell_type": "code",
      "source": [
        "daily_returns= df.pct_change()\n",
        "daily_returns.plot()\n",
        "plt.show()"
      ],
      "metadata": {
        "colab": {
          "base_uri": "https://localhost:8080/",
          "height": 277
        },
        "id": "ZlSNg4AAIoq4",
        "outputId": "a4e8a590-dfd0-4d7e-d8a4-64f1d6f8612d"
      },
      "execution_count": null,
      "outputs": [
        {
          "output_type": "display_data",
          "data": {
            "text/plain": [
              "<Figure size 432x288 with 1 Axes>"
            ],
            "image/png": "[encoded data removed]"
          },
          "metadata": {
            "needs_background": "light"
          }
        }
      ]
    },
    {
      "cell_type": "code",
      "source": [
        "daily_cum_returns = (daily_returns+1).cumprod() #daily cummulative stock returns"
      ],
      "metadata": {
        "id": "vhuPwBLQJQ9M"
      },
      "execution_count": null,
      "outputs": []
    },
    {
      "cell_type": "code",
      "source": [
        "daily_cum_returns.plot()\n",
        "plt.show;"
      ],
      "metadata": {
        "colab": {
          "base_uri": "https://localhost:8080/",
          "height": 278
        },
        "id": "H-ZOmk1PJhna",
        "outputId": "fc5198a7-d3b2-4555-cbc2-ac6456bc2914"
      },
      "execution_count": null,
      "outputs": [
        {
          "output_type": "display_data",
          "data": {
            "text/plain": [
              "<Figure size 432x288 with 1 Axes>"
            ],
            "image/png": "[encoded data removed]"
          },
          "metadata": {
            "needs_background": "light"
          }
        }
      ]
    },
    {
      "cell_type": "markdown",
      "source": [
        "#Stock BETA\n",
        "calculating stock beta base on capital asset pricing model CAPM \n",
        "refer to finance slides for more info "
      ],
      "metadata": {
        "id": "b9gMwpOhJ-l4"
      }
    },
    {
      "cell_type": "code",
      "source": [
        "import statsmodels.api as sm"
      ],
      "metadata": {
        "id": "izGMgbzUKBhR"
      },
      "execution_count": null,
      "outputs": []
    },
    {
      "cell_type": "code",
      "source": [
        "end=dt.datetime.now()\n",
        "start = dt.date(end.year-5,end.month,end.day)   #takes the date 5 years prior to now\n",
        "stocks = ['MSFT','^GSPC']"
      ],
      "metadata": {
        "id": "JOsw_0FsKyK9"
      },
      "execution_count": null,
      "outputs": []
    },
    {
      "cell_type": "code",
      "source": [
        "df= reader.get_data_yahoo(stocks,start,end)['Adj Close']"
      ],
      "metadata": {
        "colab": {
          "base_uri": "https://localhost:8080/"
        },
        "id": "XCbjAVSaLLws",
        "outputId": "210c60a5-0e08-438f-f0ca-9fff8bf2c338"
      },
      "execution_count": null,
      "outputs": [
        {
          "output_type": "stream",
          "name": "stdout",
          "text": [
            "[*********************100%***********************]  2 of 2 completed\n"
          ]
        }
      ]
    },
    {
      "cell_type": "code",
      "source": [
        "mtl_returns = df.resample('M').ffill().pct_change()\n",
        "mtl_returns = mtl_returns.dropna(axis=0)  #value is dropped along row so axis is 0"
      ],
      "metadata": {
        "id": "lDr9pdvOLVVB"
      },
      "execution_count": null,
      "outputs": []
    },
    {
      "cell_type": "code",
      "source": [
        "mtl_returns"
      ],
      "metadata": {
        "id": "X7vGzB6uL4dr"
      },
      "execution_count": null,
      "outputs": []
    },
    {
      "cell_type": "markdown",
      "source": [
        "regression section of the code "
      ],
      "metadata": {
        "id": "ybcrnazkM1nI"
      }
    },
    {
      "cell_type": "code",
      "source": [
        "X=mtl_returns['^GSPC']\n",
        "y=mtl_returns['MSFT']\n",
        "plt.scatter(X,y)  #visualise the relationship"
      ],
      "metadata": {
        "colab": {
          "base_uri": "https://localhost:8080/",
          "height": 282
        },
        "id": "AXChIKt9M4Ij",
        "outputId": "d14bfaa2-cb42-499a-ef68-fa3b8ade4a3b"
      },
      "execution_count": null,
      "outputs": [
        {
          "output_type": "execute_result",
          "data": {
            "text/plain": [
              "<matplotlib.collections.PathCollection at 0x7f0395831bb0>"
            ]
          },
          "metadata": {},
          "execution_count": 44
        },
        {
          "output_type": "display_data",
          "data": {
            "text/plain": [
              "<Figure size 432x288 with 1 Axes>"
            ],
            "image/png": "[encoded data removed]"
          },
          "metadata": {
            "needs_background": "light"
          }
        }
      ]
    },
    {
      "cell_type": "code",
      "source": [
        "#in stats models the intercept is not added and hence should be manually added\n",
        "X_sm = sm.add_constant(X)"
      ],
      "metadata": {
        "id": "Y6rY8qT-NiQ3"
      },
      "execution_count": null,
      "outputs": []
    },
    {
      "cell_type": "code",
      "source": [
        "model = sm.OLS(y,X_sm)\n",
        "results = model.fit()"
      ],
      "metadata": {
        "id": "l3uj3Q21N0uc"
      },
      "execution_count": null,
      "outputs": []
    },
    {
      "cell_type": "code",
      "source": [
        "results.summary()"
      ],
      "metadata": {
        "colab": {
          "base_uri": "https://localhost:8080/",
          "height": 444
        },
        "id": "ooTnppekN_fI",
        "outputId": "590ca456-c74b-43da-a748-d4a78f2f2b38"
      },
      "execution_count": null,
      "outputs": [
        {
          "output_type": "execute_result",
          "data": {
            "text/plain": [
              "<class 'statsmodels.iolib.summary.Summary'>\n",
              "\"\"\"\n",
              "                            OLS Regression Results                            \n",
              "==============================================================================\n",
              "Dep. Variable:                   MSFT   R-squared:                       0.649\n",
              "Model:                            OLS   Adj. R-squared:                  0.643\n",
              "Method:                 Least Squares   F-statistic:                     105.6\n",
              "Date:                Tue, 03 Jan 2023   Prob (F-statistic):           1.38e-14\n",
              "Time:                        10:40:47   Log-Likelihood:                 111.58\n",
              "No. Observations:                  59   AIC:                            -219.2\n",
              "Df Residuals:                      57   BIC:                            -215.0\n",
              "Df Model:                           1                                         \n",
              "Covariance Type:            nonrobust                                         \n",
              "==============================================================================\n",
              "                 coef    std err          t      P>|t|      [0.025      0.975]\n",
              "------------------------------------------------------------------------------\n",
              "const          0.0125      0.005      2.573      0.013       0.003       0.022\n",
              "^GSPC          0.9279      0.090     10.274      0.000       0.747       1.109\n",
              "==============================================================================\n",
              "Omnibus:                        2.430   Durbin-Watson:                   2.136\n",
              "Prob(Omnibus):                  0.297   Jarque-Bera (JB):                1.706\n",
              "Skew:                           0.396   Prob(JB):                        0.426\n",
              "Kurtosis:                       3.259   Cond. No.                         18.7\n",
              "==============================================================================\n",
              "\n",
              "Notes:\n",
              "[1] Standard Errors assume that the covariance matrix of the errors is correctly specified.\n",
              "\"\"\""
            ],
            "text/html": [
              "<table class=\"simpletable\">\n",
              "<caption>OLS Regression Results</caption>\n",
              "<tr>\n",
              "  <th>Dep. Variable:</th>          <td>MSFT</td>       <th>  R-squared:         </th> <td>   0.649</td>\n",
              "</tr>\n",
              "<tr>\n",
              "  <th>Model:</th>                   <td>OLS</td>       <th>  Adj. R-squared:    </th> <td>   0.643</td>\n",
              "</tr>\n",
              "<tr>\n",
              "  <th>Method:</th>             <td>Least Squares</td>  <th>  F-statistic:       </th> <td>   105.6</td>\n",
              "</tr>\n",
              "<tr>\n",
              "  <th>Date:</th>             <td>Tue, 03 Jan 2023</td> <th>  Prob (F-statistic):</th> <td>1.38e-14</td>\n",
              "</tr>\n",
              "<tr>\n",
              "  <th>Time:</th>                 <td>10:40:47</td>     <th>  Log-Likelihood:    </th> <td>  111.58</td>\n",
              "</tr>\n",
              "<tr>\n",
              "  <th>No. Observations:</th>      <td>    59</td>      <th>  AIC:               </th> <td>  -219.2</td>\n",
              "</tr>\n",
              "<tr>\n",
              "  <th>Df Residuals:</th>          <td>    57</td>      <th>  BIC:               </th> <td>  -215.0</td>\n",
              "</tr>\n",
              "<tr>\n",
              "  <th>Df Model:</th>              <td>     1</td>      <th>                     </th>     <td> </td>   \n",
              "</tr>\n",
              "<tr>\n",
              "  <th>Covariance Type:</th>      <td>nonrobust</td>    <th>                     </th>     <td> </td>   \n",
              "</tr>\n",
              "</table>\n",
              "<table class=\"simpletable\">\n",
              "<tr>\n",
              "    <td></td>       <th>coef</th>     <th>std err</th>      <th>t</th>      <th>P>|t|</th>  <th>[0.025</th>    <th>0.975]</th>  \n",
              "</tr>\n",
              "<tr>\n",
              "  <th>const</th> <td>    0.0125</td> <td>    0.005</td> <td>    2.573</td> <td> 0.013</td> <td>    0.003</td> <td>    0.022</td>\n",
              "</tr>\n",
              "<tr>\n",
              "  <th>^GSPC</th> <td>    0.9279</td> <td>    0.090</td> <td>   10.274</td> <td> 0.000</td> <td>    0.747</td> <td>    1.109</td>\n",
              "</tr>\n",
              "</table>\n",
              "<table class=\"simpletable\">\n",
              "<tr>\n",
              "  <th>Omnibus:</th>       <td> 2.430</td> <th>  Durbin-Watson:     </th> <td>   2.136</td>\n",
              "</tr>\n",
              "<tr>\n",
              "  <th>Prob(Omnibus):</th> <td> 0.297</td> <th>  Jarque-Bera (JB):  </th> <td>   1.706</td>\n",
              "</tr>\n",
              "<tr>\n",
              "  <th>Skew:</th>          <td> 0.396</td> <th>  Prob(JB):          </th> <td>   0.426</td>\n",
              "</tr>\n",
              "<tr>\n",
              "  <th>Kurtosis:</th>      <td> 3.259</td> <th>  Cond. No.          </th> <td>    18.7</td>\n",
              "</tr>\n",
              "</table><br/><br/>Notes:<br/>[1] Standard Errors assume that the covariance matrix of the errors is correctly specified."
            ]
          },
          "metadata": {},
          "execution_count": 47
        }
      ]
    },
    {
      "cell_type": "markdown",
      "source": [
        "##visualise the result"
      ],
      "metadata": {
        "id": "fXjZivKYTDnq"
      }
    },
    {
      "cell_type": "code",
      "source": [
        "import seaborn as sns"
      ],
      "metadata": {
        "id": "eU-KaA1pS97R"
      },
      "execution_count": null,
      "outputs": []
    },
    {
      "cell_type": "code",
      "source": [
        "sns.regplot(x='^GSPC',y='MSFT',data=mtl_returns) #regression plot helps visualise the results \n",
        "plt.show;"
      ],
      "metadata": {
        "colab": {
          "base_uri": "https://localhost:8080/",
          "height": 279
        },
        "id": "dRQcIgL1TCXL",
        "outputId": "b1cc5844-2e43-478a-b895-64058182f6c6"
      },
      "execution_count": null,
      "outputs": [
        {
          "output_type": "display_data",
          "data": {
            "text/plain": [
              "<Figure size 432x288 with 1 Axes>"
            ],
            "image/png": "[encoded data removed]"
          },
          "metadata": {
            "needs_background": "light"
          }
        }
      ]
    },
    {
      "cell_type": "markdown",
      "source": [
        "We havent taken the risk free rate into consideration\n",
        "\n",
        "we can take into account with the below piece of code "
      ],
      "metadata": {
        "id": "D48pWhGMUCZY"
      }
    },
    {
      "cell_type": "code",
      "source": [
        "import pandas_datareader\n",
        "rf = pandas_datareader.famafrench.FamaFrenchReader('F-F_Research_Data_Factors',start,end)"
      ],
      "metadata": {
        "id": "aOq-3t_qUTfF"
      },
      "execution_count": null,
      "outputs": []
    },
    {
      "cell_type": "markdown",
      "source": [
        "#MOMENTUM TRADING STRATEGY\n",
        "\n",
        "1.   take 50 best performing stocks over past 12 months \n",
        "2.   take 30 best performing stocks over past 6 months from above list\n",
        "3.   take 10 best performing stocks over past 3 months from above list\n"
      ],
      "metadata": {
        "id": "_pEy-LgCpyha"
      }
    },
    {
      "cell_type": "code",
      "source": [
        "pip install yfinance"
      ],
      "metadata": {
        "id": "vdbDJfCkswW5",
        "colab": {
          "base_uri": "https://localhost:8080/"
        },
        "outputId": "3a9da7f5-de37-479c-e338-5e188efa87d7"
      },
      "execution_count": null,
      "outputs": [
        {
          "output_type": "stream",
          "name": "stdout",
          "text": [
            "Looking in indexes: https://pypi.org/simple, https://us-python.pkg.dev/colab-wheels/public/simple/\n",
            "Collecting yfinance\n",
            "  Downloading yfinance-0.2.12-py2.py3-none-any.whl (59 kB)\n",
            "\u001b[2K     \u001b[90m━━━━━━━━━━━━━━━━━━━━━━━━━━━━━━━━━━━━━━━\u001b[0m \u001b[32m59.2/59.2 KB\u001b[0m \u001b[31m872.3 kB/s\u001b[0m eta \u001b[36m0:00:00\u001b[0m\n",
            "\u001b[?25hRequirement already satisfied: appdirs>=1.4.4 in /usr/local/lib/python3.8/dist-packages (from yfinance) (1.4.4)\n",
            "Requirement already satisfied: numpy>=1.16.5 in /usr/local/lib/python3.8/dist-packages (from yfinance) (1.21.6)\n",
            "Requirement already satisfied: pytz>=2022.5 in /usr/local/lib/python3.8/dist-packages (from yfinance) (2022.7.1)\n",
            "Collecting html5lib>=1.1\n",
            "  Downloading html5lib-1.1-py2.py3-none-any.whl (112 kB)\n",
            "\u001b[2K     \u001b[90m━━━━━━━━━━━━━━━━━━━━━━━━━━━━━━━━━━━━━━━\u001b[0m \u001b[32m112.2/112.2 KB\u001b[0m \u001b[31m3.9 MB/s\u001b[0m eta \u001b[36m0:00:00\u001b[0m\n",
            "\u001b[?25hRequirement already satisfied: multitasking>=0.0.7 in /usr/local/lib/python3.8/dist-packages (from yfinance) (0.0.11)\n",
            "Collecting cryptography>=3.3.2\n",
            "  Downloading cryptography-39.0.1-cp36-abi3-manylinux_2_28_x86_64.whl (4.2 MB)\n",
            "\u001b[2K     \u001b[90m━━━━━━━━━━━━━━━━━━━━━━━━━━━━━━━━━━━━━━━━\u001b[0m \u001b[32m4.2/4.2 MB\u001b[0m \u001b[31m22.1 MB/s\u001b[0m eta \u001b[36m0:00:00\u001b[0m\n",
            "\u001b[?25hCollecting requests>=2.26\n",
            "  Downloading requests-2.28.2-py3-none-any.whl (62 kB)\n",
            "\u001b[2K     \u001b[90m━━━━━━━━━━━━━━━━━━━━━━━━━━━━━━━━━━━━━━━━\u001b[0m \u001b[32m62.8/62.8 KB\u001b[0m \u001b[31m2.6 MB/s\u001b[0m eta \u001b[36m0:00:00\u001b[0m\n",
            "\u001b[?25hCollecting frozendict>=2.3.4\n",
            "  Downloading frozendict-2.3.5-cp38-cp38-manylinux_2_17_x86_64.manylinux2014_x86_64.whl (111 kB)\n",
            "\u001b[2K     \u001b[90m━━━━━━━━━━━━━━━━━━━━━━━━━━━━━━━━━━━━━━━\u001b[0m \u001b[32m111.2/111.2 KB\u001b[0m \u001b[31m3.9 MB/s\u001b[0m eta \u001b[36m0:00:00\u001b[0m\n",
            "\u001b[?25hCollecting beautifulsoup4>=4.11.1\n",
            "  Downloading beautifulsoup4-4.11.2-py3-none-any.whl (129 kB)\n",
            "\u001b[2K     \u001b[90m━━━━━━━━━━━━━━━━━━━━━━━━━━━━━━━━━━━━━━━\u001b[0m \u001b[32m129.4/129.4 KB\u001b[0m \u001b[31m6.4 MB/s\u001b[0m eta \u001b[36m0:00:00\u001b[0m\n",
            "\u001b[?25hRequirement already satisfied: pandas>=1.3.0 in /usr/local/lib/python3.8/dist-packages (from yfinance) (1.3.5)\n",
            "Requirement already satisfied: lxml>=4.9.1 in /usr/local/lib/python3.8/dist-packages (from yfinance) (4.9.2)\n",
            "Collecting soupsieve>1.2\n",
            "  Downloading soupsieve-2.4-py3-none-any.whl (37 kB)\n",
            "Requirement already satisfied: cffi>=1.12 in /usr/local/lib/python3.8/dist-packages (from cryptography>=3.3.2->yfinance) (1.15.1)\n",
            "Requirement already satisfied: six>=1.9 in /usr/local/lib/python3.8/dist-packages (from html5lib>=1.1->yfinance) (1.15.0)\n",
            "Requirement already satisfied: webencodings in /usr/local/lib/python3.8/dist-packages (from html5lib>=1.1->yfinance) (0.5.1)\n",
            "Requirement already satisfied: python-dateutil>=2.7.3 in /usr/local/lib/python3.8/dist-packages (from pandas>=1.3.0->yfinance) (2.8.2)\n",
            "Requirement already satisfied: certifi>=2017.4.17 in /usr/local/lib/python3.8/dist-packages (from requests>=2.26->yfinance) (2022.12.7)\n",
            "Requirement already satisfied: charset-normalizer<4,>=2 in /usr/local/lib/python3.8/dist-packages (from requests>=2.26->yfinance) (3.0.1)\n",
            "Requirement already satisfied: urllib3<1.27,>=1.21.1 in /usr/local/lib/python3.8/dist-packages (from requests>=2.26->yfinance) (1.24.3)\n",
            "Requirement already satisfied: idna<4,>=2.5 in /usr/local/lib/python3.8/dist-packages (from requests>=2.26->yfinance) (2.10)\n",
            "Requirement already satisfied: pycparser in /usr/local/lib/python3.8/dist-packages (from cffi>=1.12->cryptography>=3.3.2->yfinance) (2.21)\n",
            "Installing collected packages: soupsieve, requests, html5lib, frozendict, cryptography, beautifulsoup4, yfinance\n",
            "  Attempting uninstall: requests\n",
            "    Found existing installation: requests 2.25.1\n",
            "    Uninstalling requests-2.25.1:\n",
            "      Successfully uninstalled requests-2.25.1\n",
            "  Attempting uninstall: html5lib\n",
            "    Found existing installation: html5lib 1.0.1\n",
            "    Uninstalling html5lib-1.0.1:\n",
            "      Successfully uninstalled html5lib-1.0.1\n",
            "  Attempting uninstall: beautifulsoup4\n",
            "    Found existing installation: beautifulsoup4 4.6.3\n",
            "    Uninstalling beautifulsoup4-4.6.3:\n",
            "      Successfully uninstalled beautifulsoup4-4.6.3\n",
            "Successfully installed beautifulsoup4-4.11.2 cryptography-39.0.1 frozendict-2.3.5 html5lib-1.1 requests-2.28.2 soupsieve-2.4 yfinance-0.2.12\n"
          ]
        }
      ]
    },
    {
      "cell_type": "code",
      "source": [
        "import pandas as pd\n",
        "import yfinance as yf\n",
        "import numpy as np\n",
        "import matplotlib.pyplot as plt"
      ],
      "metadata": {
        "id": "XeKLg8nQqidF"
      },
      "execution_count": null,
      "outputs": []
    },
    {
      "cell_type": "code",
      "source": [
        "yf.pdr_override()"
      ],
      "metadata": {
        "id": "kSil1f1cvVyL"
      },
      "execution_count": null,
      "outputs": []
    },
    {
      "cell_type": "code",
      "source": [
        "nifty50 = pd.read_html(\"https://en.wikipedia.org/wiki/NIFTY_50\")[1]\n",
        "niftynext50 = pd.read_html(\"https://en.wikipedia.org/wiki/NIFTY_Next_50\")[1]\n",
        "nifty50tickers = nifty50.Symbol.to_list()\n",
        "niftynext50tickers = niftynext50.Symbol.to_list()\n",
        "tickers = nifty50tickers + niftynext50tickers"
      ],
      "metadata": {
        "id": "_QjpCGLvqrqA"
      },
      "execution_count": null,
      "outputs": []
    },
    {
      "cell_type": "code",
      "source": [
        "nasdaq_tickers = pd.read_html(\"https://en.wikipedia.org/wiki/Nasdaq-100\")[4].Ticker.to_list()\n"
      ],
      "metadata": {
        "id": "Z5_0Wva1vi06"
      },
      "execution_count": null,
      "outputs": []
    },
    {
      "cell_type": "code",
      "source": [
        "sp500_tickers = pd.read_html('https://en.wikipedia.org/wiki/List_of_S%26P_500_companies')[0].Symbol.to_list()"
      ],
      "metadata": {
        "id": "NfQ52noj8VWL"
      },
      "execution_count": null,
      "outputs": []
    },
    {
      "cell_type": "code",
      "source": [
        "sp500_tickers"
      ],
      "metadata": {
        "id": "brYwU-iP8uMr"
      },
      "execution_count": null,
      "outputs": []
    },
    {
      "cell_type": "code",
      "source": [
        "df = yf.download(sp500_tickers,start='2010-01-01')['Adj Close']"
      ],
      "metadata": {
        "colab": {
          "base_uri": "https://localhost:8080/"
        },
        "id": "nuCSTtwGucfS",
        "outputId": "d262d368-fbfa-4131-e6cd-8f35ab590e02"
      },
      "execution_count": null,
      "outputs": [
        {
          "output_type": "stream",
          "name": "stdout",
          "text": [
            "[*********************100%***********************]  503 of 503 completed\n",
            "\n",
            "2 Failed downloads:\n",
            "- BRK.B: No timezone found, symbol may be delisted\n",
            "- BF.B: No data found for this date range, symbol may be delisted\n"
          ]
        }
      ]
    },
    {
      "cell_type": "code",
      "source": [
        "df = df.dropna(axis=1)\n"
      ],
      "metadata": {
        "id": "WWIoEDmrypd1"
      },
      "execution_count": null,
      "outputs": []
    },
    {
      "cell_type": "code",
      "source": [
        "mtl = (df.pct_change()+1)[1:].resample(\"M\").prod()\n",
        "mtl.head(15)"
      ],
      "metadata": {
        "id": "IIcqgDpxyeGa",
        "colab": {
          "base_uri": "https://localhost:8080/",
          "height": 618
        },
        "outputId": "194b25a6-355c-4633-b1aa-ec3bc4a3dbfc"
      },
      "execution_count": null,
      "outputs": [
        {
          "output_type": "execute_result",
          "data": {
            "text/plain": [
              "                   A       AAL       AAP      AAPL       ABC       ABT  \\\n",
              "Date                                                                     \n",
              "2010-01-31  0.895527  1.113207  0.976969  0.897434  1.023658  0.979189   \n",
              "2010-02-28  1.122370  1.380414  1.034220  1.065396  1.031652  1.025312   \n",
              "2010-03-31  1.093133  1.002728  1.028855  1.148471  1.031384  0.970523   \n",
              "2010-04-30  1.054377  0.961905  1.075859  1.111021  1.066736  0.979328   \n",
              "2010-05-31  0.892443  1.248939  1.147672  0.983875  1.016526  0.929633   \n",
              "2010-06-30  0.878554  0.975085  0.970632  0.979173  1.015026  0.983600   \n",
              "2010-07-31  0.982413  1.260163  1.066759  1.022741  0.943937  1.058909   \n",
              "2010-08-31  0.965629  0.833180  1.017560  0.944995  0.912747  1.005298   \n",
              "2010-09-30  1.237301  1.023230  1.078398  1.167215  1.123900  1.058776   \n",
              "2010-10-31  1.042853  1.274595  1.107362  1.060723  1.070776  0.990534   \n",
              "2010-11-30  1.006322  0.946565  1.015543  1.033790  0.942753  0.906274   \n",
              "2010-12-31  1.183038  0.896953  1.003318  1.036670  1.105997  1.030101   \n",
              "2011-01-31  1.009655  0.991009  0.966591  1.051959  1.050996  0.951350   \n",
              "2011-02-28  1.005977  0.867943  0.980295  1.040935  1.060064  1.065102   \n",
              "2011-03-31  1.064163  1.011614  1.047872  0.986693  1.043524  1.019750   \n",
              "\n",
              "                ACGL       ACN      ADBE       ADI  ...       WTW        WY  \\\n",
              "Date                                                ...                       \n",
              "2010-01-31  0.994302  0.974328  0.870855  0.851279  ...  0.979829  0.902169   \n",
              "2010-02-28  1.034107  0.975116  1.072755  1.084569  ...  1.135341  1.012532   \n",
              "2010-03-31  1.030684  1.049538  1.020779  0.992337  ...  1.059355  1.120544   \n",
              "2010-04-30  0.991213  1.049417  0.949958  1.038515  ...  1.100991  1.094974   \n",
              "2010-05-31  0.972744  0.859762  0.954762  0.982144  ...  0.888824  0.859854   \n",
              "2010-06-30  1.013330  1.030117  0.823878  0.955091  ...  0.989661  0.826679   \n",
              "2010-07-31  1.050470  1.025614  1.086644  1.066403  ...  1.018303  1.250816   \n",
              "2010-08-31  1.019678  0.923310  0.964485  0.945499  ...  0.949020  0.967941   \n",
              "2010-09-30  1.050125  1.160929  0.944043  1.125538  ...  1.070306  1.003822   \n",
              "2010-10-31  1.030907  1.062705  1.076482  1.072976  ...  1.031798  1.029188   \n",
              "2010-11-30  1.045260  0.968911  0.987567  1.056133  ...  1.000944  1.032121   \n",
              "2010-12-31  0.975083  1.119344  1.107194  1.065930  ...  1.096202  1.134212   \n",
              "2011-01-31  1.002272  1.061456  1.073749  1.030794  ...  1.085186  1.224512   \n",
              "2011-02-28  1.025496  1.000194  1.043873  1.027040  ...  1.034859  1.059700   \n",
              "2011-03-31  1.096022  1.067793  0.961159  0.993040  ...  1.044660  1.007784   \n",
              "\n",
              "                WYNN       XEL       XOM      XRAY       YUM       ZBH  \\\n",
              "Date                                                                     \n",
              "2010-01-31  0.967480  0.985768  0.931743  0.949052  0.980644  0.938354   \n",
              "2010-02-28  1.027311  1.001443  1.015429  0.986877  0.985677  1.017933   \n",
              "2010-03-31  1.192858  1.030484  1.030461  1.055622  1.136714  1.032618   \n",
              "2010-04-30  1.163655  1.025944  1.011795  1.050745  1.112381  1.028885   \n",
              "2010-05-31  0.953687  0.942069  0.898194  0.884856  0.965346  0.918240   \n",
              "2010-06-30  0.909275  1.017840  0.943930  0.923772  0.953358  0.966387   \n",
              "2010-07-31  1.149600  1.066957  1.045733  1.003677  1.063243  0.980388   \n",
              "2010-08-31  0.921824  1.014552  0.997537  0.925383  1.009685  0.890168   \n",
              "2010-09-30  1.076417  1.040964  1.045339  1.152651  1.104556  1.109392   \n",
              "2010-10-31  1.234989  1.038746  1.076064  0.981858  1.081633  0.906555   \n",
              "2010-11-30  1.018215  0.984912  1.052759  0.985027  1.010492  1.038364   \n",
              "2010-12-31  1.027102  1.012913  1.051179  1.106710  0.979433  1.089728   \n",
              "2011-01-31  1.120281  1.000849  1.103391  1.038338  0.958175  1.102086   \n",
              "2011-02-28  1.056735  1.015698  1.065701  1.053269  1.076347  1.053753   \n",
              "2011-03-31  1.034410  1.008684  0.983631  0.991217  1.020863  0.970966   \n",
              "\n",
              "                ZBRA      ZION  \n",
              "Date                            \n",
              "2010-01-31  0.910359  1.423106  \n",
              "2010-02-28  1.094636  0.977876  \n",
              "2010-03-31  1.036052  1.177994  \n",
              "2010-04-30  0.981419  1.315476  \n",
              "2010-05-31  0.946644  0.833923  \n",
              "2010-06-30  0.922545  0.900626  \n",
              "2010-07-31  1.081592  1.028744  \n",
              "2010-08-31  1.043003  0.830479  \n",
              "2010-09-30  1.175402  1.159609  \n",
              "2010-10-31  1.063615  0.971442  \n",
              "2010-11-30  1.018446  0.937776  \n",
              "2010-12-31  1.042536  1.245758  \n",
              "2011-01-31  1.023954  0.973173  \n",
              "2011-02-28  0.959383  0.991073  \n",
              "2011-03-31  1.051447  0.987157  \n",
              "\n",
              "[15 rows x 438 columns]"
            ],
            "text/html": [
              "\n",
              "  <div id=\"df-8b69ccb6-951a-4593-a1ad-bb0b0c5d92ac\">\n",
              "    <div class=\"colab-df-container\">\n",
              "      <div>\n",
              "<style scoped>\n",
              "    .dataframe tbody tr th:only-of-type {\n",
              "        vertical-align: middle;\n",
              "    }\n",
              "\n",
              "    .dataframe tbody tr th {\n",
              "        vertical-align: top;\n",
              "    }\n",
              "\n",
              "    .dataframe thead th {\n",
              "        text-align: right;\n",
              "    }\n",
              "</style>\n",
              "<table border=\"1\" class=\"dataframe\">\n",
              "  <thead>\n",
              "    <tr style=\"text-align: right;\">\n",
              "      <th></th>\n",
              "      <th>A</th>\n",
              "      <th>AAL</th>\n",
              "      <th>AAP</th>\n",
              "      <th>AAPL</th>\n",
              "      <th>ABC</th>\n",
              "      <th>ABT</th>\n",
              "      <th>ACGL</th>\n",
              "      <th>ACN</th>\n",
              "      <th>ADBE</th>\n",
              "      <th>ADI</th>\n",
              "      <th>...</th>\n",
              "      <th>WTW</th>\n",
              "      <th>WY</th>\n",
              "      <th>WYNN</th>\n",
              "      <th>XEL</th>\n",
              "      <th>XOM</th>\n",
              "      <th>XRAY</th>\n",
              "      <th>YUM</th>\n",
              "      <th>ZBH</th>\n",
              "      <th>ZBRA</th>\n",
              "      <th>ZION</th>\n",
              "    </tr>\n",
              "    <tr>\n",
              "      <th>Date</th>\n",
              "      <th></th>\n",
              "      <th></th>\n",
              "      <th></th>\n",
              "      <th></th>\n",
              "      <th></th>\n",
              "      <th></th>\n",
              "      <th></th>\n",
              "      <th></th>\n",
              "      <th></th>\n",
              "      <th></th>\n",
              "      <th></th>\n",
              "      <th></th>\n",
              "      <th></th>\n",
              "      <th></th>\n",
              "      <th></th>\n",
              "      <th></th>\n",
              "      <th></th>\n",
              "      <th></th>\n",
              "      <th></th>\n",
              "      <th></th>\n",
              "      <th></th>\n",
              "    </tr>\n",
              "  </thead>\n",
              "  <tbody>\n",
              "    <tr>\n",
              "      <th>2010-01-31</th>\n",
              "      <td>0.895527</td>\n",
              "      <td>1.113207</td>\n",
              "      <td>0.976969</td>\n",
              "      <td>0.897434</td>\n",
              "      <td>1.023658</td>\n",
              "      <td>0.979189</td>\n",
              "      <td>0.994302</td>\n",
              "      <td>0.974328</td>\n",
              "      <td>0.870855</td>\n",
              "      <td>0.851279</td>\n",
              "      <td>...</td>\n",
              "      <td>0.979829</td>\n",
              "      <td>0.902169</td>\n",
              "      <td>0.967480</td>\n",
              "      <td>0.985768</td>\n",
              "      <td>0.931743</td>\n",
              "      <td>0.949052</td>\n",
              "      <td>0.980644</td>\n",
              "      <td>0.938354</td>\n",
              "      <td>0.910359</td>\n",
              "      <td>1.423106</td>\n",
              "    </tr>\n",
              "    <tr>\n",
              "      <th>2010-02-28</th>\n",
              "      <td>1.122370</td>\n",
              "      <td>1.380414</td>\n",
              "      <td>1.034220</td>\n",
              "      <td>1.065396</td>\n",
              "      <td>1.031652</td>\n",
              "      <td>1.025312</td>\n",
              "      <td>1.034107</td>\n",
              "      <td>0.975116</td>\n",
              "      <td>1.072755</td>\n",
              "      <td>1.084569</td>\n",
              "      <td>...</td>\n",
              "      <td>1.135341</td>\n",
              "      <td>1.012532</td>\n",
              "      <td>1.027311</td>\n",
              "      <td>1.001443</td>\n",
              "      <td>1.015429</td>\n",
              "      <td>0.986877</td>\n",
              "      <td>0.985677</td>\n",
              "      <td>1.017933</td>\n",
              "      <td>1.094636</td>\n",
              "      <td>0.977876</td>\n",
              "    </tr>\n",
              "    <tr>\n",
              "      <th>2010-03-31</th>\n",
              "      <td>1.093133</td>\n",
              "      <td>1.002728</td>\n",
              "      <td>1.028855</td>\n",
              "      <td>1.148471</td>\n",
              "      <td>1.031384</td>\n",
              "      <td>0.970523</td>\n",
              "      <td>1.030684</td>\n",
              "      <td>1.049538</td>\n",
              "      <td>1.020779</td>\n",
              "      <td>0.992337</td>\n",
              "      <td>...</td>\n",
              "      <td>1.059355</td>\n",
              "      <td>1.120544</td>\n",
              "      <td>1.192858</td>\n",
              "      <td>1.030484</td>\n",
              "      <td>1.030461</td>\n",
              "      <td>1.055622</td>\n",
              "      <td>1.136714</td>\n",
              "      <td>1.032618</td>\n",
              "      <td>1.036052</td>\n",
              "      <td>1.177994</td>\n",
              "    </tr>\n",
              "    <tr>\n",
              "      <th>2010-04-30</th>\n",
              "      <td>1.054377</td>\n",
              "      <td>0.961905</td>\n",
              "      <td>1.075859</td>\n",
              "      <td>1.111021</td>\n",
              "      <td>1.066736</td>\n",
              "      <td>0.979328</td>\n",
              "      <td>0.991213</td>\n",
              "      <td>1.049417</td>\n",
              "      <td>0.949958</td>\n",
              "      <td>1.038515</td>\n",
              "      <td>...</td>\n",
              "      <td>1.100991</td>\n",
              "      <td>1.094974</td>\n",
              "      <td>1.163655</td>\n",
              "      <td>1.025944</td>\n",
              "      <td>1.011795</td>\n",
              "      <td>1.050745</td>\n",
              "      <td>1.112381</td>\n",
              "      <td>1.028885</td>\n",
              "      <td>0.981419</td>\n",
              "      <td>1.315476</td>\n",
              "    </tr>\n",
              "    <tr>\n",
              "      <th>2010-05-31</th>\n",
              "      <td>0.892443</td>\n",
              "      <td>1.248939</td>\n",
              "      <td>1.147672</td>\n",
              "      <td>0.983875</td>\n",
              "      <td>1.016526</td>\n",
              "      <td>0.929633</td>\n",
              "      <td>0.972744</td>\n",
              "      <td>0.859762</td>\n",
              "      <td>0.954762</td>\n",
              "      <td>0.982144</td>\n",
              "      <td>...</td>\n",
              "      <td>0.888824</td>\n",
              "      <td>0.859854</td>\n",
              "      <td>0.953687</td>\n",
              "      <td>0.942069</td>\n",
              "      <td>0.898194</td>\n",
              "      <td>0.884856</td>\n",
              "      <td>0.965346</td>\n",
              "      <td>0.918240</td>\n",
              "      <td>0.946644</td>\n",
              "      <td>0.833923</td>\n",
              "    </tr>\n",
              "    <tr>\n",
              "      <th>2010-06-30</th>\n",
              "      <td>0.878554</td>\n",
              "      <td>0.975085</td>\n",
              "      <td>0.970632</td>\n",
              "      <td>0.979173</td>\n",
              "      <td>1.015026</td>\n",
              "      <td>0.983600</td>\n",
              "      <td>1.013330</td>\n",
              "      <td>1.030117</td>\n",
              "      <td>0.823878</td>\n",
              "      <td>0.955091</td>\n",
              "      <td>...</td>\n",
              "      <td>0.989661</td>\n",
              "      <td>0.826679</td>\n",
              "      <td>0.909275</td>\n",
              "      <td>1.017840</td>\n",
              "      <td>0.943930</td>\n",
              "      <td>0.923772</td>\n",
              "      <td>0.953358</td>\n",
              "      <td>0.966387</td>\n",
              "      <td>0.922545</td>\n",
              "      <td>0.900626</td>\n",
              "    </tr>\n",
              "    <tr>\n",
              "      <th>2010-07-31</th>\n",
              "      <td>0.982413</td>\n",
              "      <td>1.260163</td>\n",
              "      <td>1.066759</td>\n",
              "      <td>1.022741</td>\n",
              "      <td>0.943937</td>\n",
              "      <td>1.058909</td>\n",
              "      <td>1.050470</td>\n",
              "      <td>1.025614</td>\n",
              "      <td>1.086644</td>\n",
              "      <td>1.066403</td>\n",
              "      <td>...</td>\n",
              "      <td>1.018303</td>\n",
              "      <td>1.250816</td>\n",
              "      <td>1.149600</td>\n",
              "      <td>1.066957</td>\n",
              "      <td>1.045733</td>\n",
              "      <td>1.003677</td>\n",
              "      <td>1.063243</td>\n",
              "      <td>0.980388</td>\n",
              "      <td>1.081592</td>\n",
              "      <td>1.028744</td>\n",
              "    </tr>\n",
              "    <tr>\n",
              "      <th>2010-08-31</th>\n",
              "      <td>0.965629</td>\n",
              "      <td>0.833180</td>\n",
              "      <td>1.017560</td>\n",
              "      <td>0.944995</td>\n",
              "      <td>0.912747</td>\n",
              "      <td>1.005298</td>\n",
              "      <td>1.019678</td>\n",
              "      <td>0.923310</td>\n",
              "      <td>0.964485</td>\n",
              "      <td>0.945499</td>\n",
              "      <td>...</td>\n",
              "      <td>0.949020</td>\n",
              "      <td>0.967941</td>\n",
              "      <td>0.921824</td>\n",
              "      <td>1.014552</td>\n",
              "      <td>0.997537</td>\n",
              "      <td>0.925383</td>\n",
              "      <td>1.009685</td>\n",
              "      <td>0.890168</td>\n",
              "      <td>1.043003</td>\n",
              "      <td>0.830479</td>\n",
              "    </tr>\n",
              "    <tr>\n",
              "      <th>2010-09-30</th>\n",
              "      <td>1.237301</td>\n",
              "      <td>1.023230</td>\n",
              "      <td>1.078398</td>\n",
              "      <td>1.167215</td>\n",
              "      <td>1.123900</td>\n",
              "      <td>1.058776</td>\n",
              "      <td>1.050125</td>\n",
              "      <td>1.160929</td>\n",
              "      <td>0.944043</td>\n",
              "      <td>1.125538</td>\n",
              "      <td>...</td>\n",
              "      <td>1.070306</td>\n",
              "      <td>1.003822</td>\n",
              "      <td>1.076417</td>\n",
              "      <td>1.040964</td>\n",
              "      <td>1.045339</td>\n",
              "      <td>1.152651</td>\n",
              "      <td>1.104556</td>\n",
              "      <td>1.109392</td>\n",
              "      <td>1.175402</td>\n",
              "      <td>1.159609</td>\n",
              "    </tr>\n",
              "    <tr>\n",
              "      <th>2010-10-31</th>\n",
              "      <td>1.042853</td>\n",
              "      <td>1.274595</td>\n",
              "      <td>1.107362</td>\n",
              "      <td>1.060723</td>\n",
              "      <td>1.070776</td>\n",
              "      <td>0.990534</td>\n",
              "      <td>1.030907</td>\n",
              "      <td>1.062705</td>\n",
              "      <td>1.076482</td>\n",
              "      <td>1.072976</td>\n",
              "      <td>...</td>\n",
              "      <td>1.031798</td>\n",
              "      <td>1.029188</td>\n",
              "      <td>1.234989</td>\n",
              "      <td>1.038746</td>\n",
              "      <td>1.076064</td>\n",
              "      <td>0.981858</td>\n",
              "      <td>1.081633</td>\n",
              "      <td>0.906555</td>\n",
              "      <td>1.063615</td>\n",
              "      <td>0.971442</td>\n",
              "    </tr>\n",
              "    <tr>\n",
              "      <th>2010-11-30</th>\n",
              "      <td>1.006322</td>\n",
              "      <td>0.946565</td>\n",
              "      <td>1.015543</td>\n",
              "      <td>1.033790</td>\n",
              "      <td>0.942753</td>\n",
              "      <td>0.906274</td>\n",
              "      <td>1.045260</td>\n",
              "      <td>0.968911</td>\n",
              "      <td>0.987567</td>\n",
              "      <td>1.056133</td>\n",
              "      <td>...</td>\n",
              "      <td>1.000944</td>\n",
              "      <td>1.032121</td>\n",
              "      <td>1.018215</td>\n",
              "      <td>0.984912</td>\n",
              "      <td>1.052759</td>\n",
              "      <td>0.985027</td>\n",
              "      <td>1.010492</td>\n",
              "      <td>1.038364</td>\n",
              "      <td>1.018446</td>\n",
              "      <td>0.937776</td>\n",
              "    </tr>\n",
              "    <tr>\n",
              "      <th>2010-12-31</th>\n",
              "      <td>1.183038</td>\n",
              "      <td>0.896953</td>\n",
              "      <td>1.003318</td>\n",
              "      <td>1.036670</td>\n",
              "      <td>1.105997</td>\n",
              "      <td>1.030101</td>\n",
              "      <td>0.975083</td>\n",
              "      <td>1.119344</td>\n",
              "      <td>1.107194</td>\n",
              "      <td>1.065930</td>\n",
              "      <td>...</td>\n",
              "      <td>1.096202</td>\n",
              "      <td>1.134212</td>\n",
              "      <td>1.027102</td>\n",
              "      <td>1.012913</td>\n",
              "      <td>1.051179</td>\n",
              "      <td>1.106710</td>\n",
              "      <td>0.979433</td>\n",
              "      <td>1.089728</td>\n",
              "      <td>1.042536</td>\n",
              "      <td>1.245758</td>\n",
              "    </tr>\n",
              "    <tr>\n",
              "      <th>2011-01-31</th>\n",
              "      <td>1.009655</td>\n",
              "      <td>0.991009</td>\n",
              "      <td>0.966591</td>\n",
              "      <td>1.051959</td>\n",
              "      <td>1.050996</td>\n",
              "      <td>0.951350</td>\n",
              "      <td>1.002272</td>\n",
              "      <td>1.061456</td>\n",
              "      <td>1.073749</td>\n",
              "      <td>1.030794</td>\n",
              "      <td>...</td>\n",
              "      <td>1.085186</td>\n",
              "      <td>1.224512</td>\n",
              "      <td>1.120281</td>\n",
              "      <td>1.000849</td>\n",
              "      <td>1.103391</td>\n",
              "      <td>1.038338</td>\n",
              "      <td>0.958175</td>\n",
              "      <td>1.102086</td>\n",
              "      <td>1.023954</td>\n",
              "      <td>0.973173</td>\n",
              "    </tr>\n",
              "    <tr>\n",
              "      <th>2011-02-28</th>\n",
              "      <td>1.005977</td>\n",
              "      <td>0.867943</td>\n",
              "      <td>0.980295</td>\n",
              "      <td>1.040935</td>\n",
              "      <td>1.060064</td>\n",
              "      <td>1.065102</td>\n",
              "      <td>1.025496</td>\n",
              "      <td>1.000194</td>\n",
              "      <td>1.043873</td>\n",
              "      <td>1.027040</td>\n",
              "      <td>...</td>\n",
              "      <td>1.034859</td>\n",
              "      <td>1.059700</td>\n",
              "      <td>1.056735</td>\n",
              "      <td>1.015698</td>\n",
              "      <td>1.065701</td>\n",
              "      <td>1.053269</td>\n",
              "      <td>1.076347</td>\n",
              "      <td>1.053753</td>\n",
              "      <td>0.959383</td>\n",
              "      <td>0.991073</td>\n",
              "    </tr>\n",
              "    <tr>\n",
              "      <th>2011-03-31</th>\n",
              "      <td>1.064163</td>\n",
              "      <td>1.011614</td>\n",
              "      <td>1.047872</td>\n",
              "      <td>0.986693</td>\n",
              "      <td>1.043524</td>\n",
              "      <td>1.019750</td>\n",
              "      <td>1.096022</td>\n",
              "      <td>1.067793</td>\n",
              "      <td>0.961159</td>\n",
              "      <td>0.993040</td>\n",
              "      <td>...</td>\n",
              "      <td>1.044660</td>\n",
              "      <td>1.007784</td>\n",
              "      <td>1.034410</td>\n",
              "      <td>1.008684</td>\n",
              "      <td>0.983631</td>\n",
              "      <td>0.991217</td>\n",
              "      <td>1.020863</td>\n",
              "      <td>0.970966</td>\n",
              "      <td>1.051447</td>\n",
              "      <td>0.987157</td>\n",
              "    </tr>\n",
              "  </tbody>\n",
              "</table>\n",
              "<p>15 rows × 438 columns</p>\n",
              "</div>\n",
              "      <button class=\"colab-df-convert\" onclick=\"convertToInteractive('df-8b69ccb6-951a-4593-a1ad-bb0b0c5d92ac')\"\n",
              "              title=\"Convert this dataframe to an interactive table.\"\n",
              "              style=\"display:none;\">\n",
              "        \n",
              "  <svg xmlns=\"http://www.w3.org/2000/svg\" height=\"24px\"viewBox=\"0 0 24 24\"\n",
              "       width=\"24px\">\n",
              "    <path d=\"M0 0h24v24H0V0z\" fill=\"none\"/>\n",
              "    <path d=\"M18.56 5.44l.94 2.06.94-2.06 2.06-.94-2.06-.94-.94-2.06-.94 2.06-2.06.94zm-11 1L8.5 8.5l.94-2.06 2.06-.94-2.06-.94L8.5 2.5l-.94 2.06-2.06.94zm10 10l.94 2.06.94-2.06 2.06-.94-2.06-.94-.94-2.06-.94 2.06-2.06.94z\"/><path d=\"M17.41 7.96l-1.37-1.37c-.4-.4-.92-.59-1.43-.59-.52 0-1.04.2-1.43.59L10.3 9.45l-7.72 7.72c-.78.78-.78 2.05 0 2.83L4 21.41c.39.39.9.59 1.41.59.51 0 1.02-.2 1.41-.59l7.78-7.78 2.81-2.81c.8-.78.8-2.07 0-2.86zM5.41 20L4 18.59l7.72-7.72 1.47 1.35L5.41 20z\"/>\n",
              "  </svg>\n",
              "      </button>\n",
              "      \n",
              "  <style>\n",
              "    .colab-df-container {\n",
              "      display:flex;\n",
              "      flex-wrap:wrap;\n",
              "      gap: 12px;\n",
              "    }\n",
              "\n",
              "    .colab-df-convert {\n",
              "      background-color: #E8F0FE;\n",
              "      border: none;\n",
              "      border-radius: 50%;\n",
              "      cursor: pointer;\n",
              "      display: none;\n",
              "      fill: #1967D2;\n",
              "      height: 32px;\n",
              "      padding: 0 0 0 0;\n",
              "      width: 32px;\n",
              "    }\n",
              "\n",
              "    .colab-df-convert:hover {\n",
              "      background-color: #E2EBFA;\n",
              "      box-shadow: 0px 1px 2px rgba(60, 64, 67, 0.3), 0px 1px 3px 1px rgba(60, 64, 67, 0.15);\n",
              "      fill: #174EA6;\n",
              "    }\n",
              "\n",
              "    [theme=dark] .colab-df-convert {\n",
              "      background-color: #3B4455;\n",
              "      fill: #D2E3FC;\n",
              "    }\n",
              "\n",
              "    [theme=dark] .colab-df-convert:hover {\n",
              "      background-color: #434B5C;\n",
              "      box-shadow: 0px 1px 3px 1px rgba(0, 0, 0, 0.15);\n",
              "      filter: drop-shadow(0px 1px 2px rgba(0, 0, 0, 0.3));\n",
              "      fill: #FFFFFF;\n",
              "    }\n",
              "  </style>\n",
              "\n",
              "      <script>\n",
              "        const buttonEl =\n",
              "          document.querySelector('#df-8b69ccb6-951a-4593-a1ad-bb0b0c5d92ac button.colab-df-convert');\n",
              "        buttonEl.style.display =\n",
              "          google.colab.kernel.accessAllowed ? 'block' : 'none';\n",
              "\n",
              "        async function convertToInteractive(key) {\n",
              "          const element = document.querySelector('#df-8b69ccb6-951a-4593-a1ad-bb0b0c5d92ac');\n",
              "          const dataTable =\n",
              "            await google.colab.kernel.invokeFunction('convertToInteractive',\n",
              "                                                     [key], {});\n",
              "          if (!dataTable) return;\n",
              "\n",
              "          const docLinkHtml = 'Like what you see? Visit the ' +\n",
              "            '<a target=\"_blank\" href=https://colab.research.google.com/notebooks/data_table.ipynb>data table notebook</a>'\n",
              "            + ' to learn more about interactive tables.';\n",
              "          element.innerHTML = '';\n",
              "          dataTable['output_type'] = 'display_data';\n",
              "          await google.colab.output.renderOutput(dataTable, element);\n",
              "          const docLink = document.createElement('div');\n",
              "          docLink.innerHTML = docLinkHtml;\n",
              "          element.appendChild(docLink);\n",
              "        }\n",
              "      </script>\n",
              "    </div>\n",
              "  </div>\n",
              "  "
            ]
          },
          "metadata": {},
          "execution_count": 11
        }
      ]
    },
    {
      "cell_type": "code",
      "source": [
        "def get_rolling_ret(df,n):\n",
        "  return df.rolling(n).apply(np.prod)"
      ],
      "metadata": {
        "id": "DYrZ1bH-zZdk"
      },
      "execution_count": null,
      "outputs": []
    },
    {
      "cell_type": "code",
      "source": [
        "ret_12, ret_6 , ret_3 = get_rolling_ret(mtl,12),get_rolling_ret(mtl,6),get_rolling_ret(mtl,3)"
      ],
      "metadata": {
        "id": "MXLoKh28znay"
      },
      "execution_count": null,
      "outputs": []
    },
    {
      "cell_type": "code",
      "source": [
        "def get_top1(date):\n",
        "  top_50=ret_12.loc[date].nlargest(50).index\n",
        "  top_30=ret_6.loc[date,top_50].nlargest(30).index\n",
        "  top_10=ret_3.loc[date,top_30].nlargest(10).index\n",
        "  return top_10"
      ],
      "metadata": {
        "id": "eKYQ276v0JAD"
      },
      "execution_count": null,
      "outputs": []
    },
    {
      "cell_type": "code",
      "source": [
        "get_top1('2010-12-31')"
      ],
      "metadata": {
        "id": "EWTV49qv0p-t"
      },
      "execution_count": null,
      "outputs": []
    },
    {
      "cell_type": "code",
      "source": [
        "portfolio1=mtl.loc['2010-12-31':,get_top1('2010-12-31')][1:2]\n",
        "portfolio1"
      ],
      "metadata": {
        "id": "g2OyM49G2Jwq"
      },
      "execution_count": null,
      "outputs": []
    },
    {
      "cell_type": "markdown",
      "source": [
        "###taking only past 3 month performance \n",
        "top 10 from previous 3 months"
      ],
      "metadata": {
        "id": "y09i4eloC2y0"
      }
    },
    {
      "cell_type": "code",
      "source": [
        "def get_top2(date):\n",
        "  return ret_3.loc[date].nlargest(10).index\n",
        "  "
      ],
      "metadata": {
        "id": "bdRxDWECC_EO"
      },
      "execution_count": null,
      "outputs": []
    },
    {
      "cell_type": "code",
      "source": [
        "get_top2('2010-12-31')"
      ],
      "metadata": {
        "colab": {
          "base_uri": "https://localhost:8080/"
        },
        "id": "3xEUTFGIC2KV",
        "outputId": "f73c0209-76b1-47c4-b6f3-0ab63f2cf357"
      },
      "execution_count": null,
      "outputs": [
        {
          "data": {
            "text/plain": [
              "Index(['URI', 'RCL', 'AIG', 'FCX', 'CF', 'SWKS', 'BWA', 'F', 'ON', 'SLB'], dtype='object')"
            ]
          },
          "execution_count": 18,
          "metadata": {},
          "output_type": "execute_result"
        },
        {
          "output_type": "execute_result",
          "data": {
            "text/plain": [
              "Index(['URI', 'RCL', 'AIG', 'FCX', 'CF', 'SWKS', 'BWA', 'F', 'ON', 'SLB'], dtype='object')"
            ]
          },
          "metadata": {},
          "execution_count": 18
        }
      ]
    },
    {
      "cell_type": "code",
      "source": [
        "portfolio2=mtl.loc['2010-12-31':,get_top2('2010-12-31')][1:2]\n",
        "portfolio2"
      ],
      "metadata": {
        "id": "7zLJOwhADa1F",
        "colab": {
          "base_uri": "https://localhost:8080/",
          "height": 111
        },
        "outputId": "91a10152-6043-4054-96ed-c0d07c7279c4"
      },
      "execution_count": null,
      "outputs": [
        {
          "output_type": "execute_result",
          "data": {
            "text/plain": [
              "                 URI       RCL       AIG       FCX        CF      SWKS  \\\n",
              "Date                                                                     \n",
              "2011-01-31  1.171429  0.955319  0.844238  0.909304  0.999186  1.109675   \n",
              "\n",
              "                 BWA        F        ON       SLB  \n",
              "Date                                               \n",
              "2011-01-31  0.931454  0.94997  1.118421  1.065748  "
            ],
            "text/html": [
              "\n",
              "  <div id=\"df-2bc376b6-fb8a-4248-9e62-ef1209f56470\">\n",
              "    <div class=\"colab-df-container\">\n",
              "      <div>\n",
              "<style scoped>\n",
              "    .dataframe tbody tr th:only-of-type {\n",
              "        vertical-align: middle;\n",
              "    }\n",
              "\n",
              "    .dataframe tbody tr th {\n",
              "        vertical-align: top;\n",
              "    }\n",
              "\n",
              "    .dataframe thead th {\n",
              "        text-align: right;\n",
              "    }\n",
              "</style>\n",
              "<table border=\"1\" class=\"dataframe\">\n",
              "  <thead>\n",
              "    <tr style=\"text-align: right;\">\n",
              "      <th></th>\n",
              "      <th>URI</th>\n",
              "      <th>RCL</th>\n",
              "      <th>AIG</th>\n",
              "      <th>FCX</th>\n",
              "      <th>CF</th>\n",
              "      <th>SWKS</th>\n",
              "      <th>BWA</th>\n",
              "      <th>F</th>\n",
              "      <th>ON</th>\n",
              "      <th>SLB</th>\n",
              "    </tr>\n",
              "    <tr>\n",
              "      <th>Date</th>\n",
              "      <th></th>\n",
              "      <th></th>\n",
              "      <th></th>\n",
              "      <th></th>\n",
              "      <th></th>\n",
              "      <th></th>\n",
              "      <th></th>\n",
              "      <th></th>\n",
              "      <th></th>\n",
              "      <th></th>\n",
              "    </tr>\n",
              "  </thead>\n",
              "  <tbody>\n",
              "    <tr>\n",
              "      <th>2011-01-31</th>\n",
              "      <td>1.171429</td>\n",
              "      <td>0.955319</td>\n",
              "      <td>0.844238</td>\n",
              "      <td>0.909304</td>\n",
              "      <td>0.999186</td>\n",
              "      <td>1.109675</td>\n",
              "      <td>0.931454</td>\n",
              "      <td>0.94997</td>\n",
              "      <td>1.118421</td>\n",
              "      <td>1.065748</td>\n",
              "    </tr>\n",
              "  </tbody>\n",
              "</table>\n",
              "</div>\n",
              "      <button class=\"colab-df-convert\" onclick=\"convertToInteractive('df-2bc376b6-fb8a-4248-9e62-ef1209f56470')\"\n",
              "              title=\"Convert this dataframe to an interactive table.\"\n",
              "              style=\"display:none;\">\n",
              "        \n",
              "  <svg xmlns=\"http://www.w3.org/2000/svg\" height=\"24px\"viewBox=\"0 0 24 24\"\n",
              "       width=\"24px\">\n",
              "    <path d=\"M0 0h24v24H0V0z\" fill=\"none\"/>\n",
              "    <path d=\"M18.56 5.44l.94 2.06.94-2.06 2.06-.94-2.06-.94-.94-2.06-.94 2.06-2.06.94zm-11 1L8.5 8.5l.94-2.06 2.06-.94-2.06-.94L8.5 2.5l-.94 2.06-2.06.94zm10 10l.94 2.06.94-2.06 2.06-.94-2.06-.94-.94-2.06-.94 2.06-2.06.94z\"/><path d=\"M17.41 7.96l-1.37-1.37c-.4-.4-.92-.59-1.43-.59-.52 0-1.04.2-1.43.59L10.3 9.45l-7.72 7.72c-.78.78-.78 2.05 0 2.83L4 21.41c.39.39.9.59 1.41.59.51 0 1.02-.2 1.41-.59l7.78-7.78 2.81-2.81c.8-.78.8-2.07 0-2.86zM5.41 20L4 18.59l7.72-7.72 1.47 1.35L5.41 20z\"/>\n",
              "  </svg>\n",
              "      </button>\n",
              "      \n",
              "  <style>\n",
              "    .colab-df-container {\n",
              "      display:flex;\n",
              "      flex-wrap:wrap;\n",
              "      gap: 12px;\n",
              "    }\n",
              "\n",
              "    .colab-df-convert {\n",
              "      background-color: #E8F0FE;\n",
              "      border: none;\n",
              "      border-radius: 50%;\n",
              "      cursor: pointer;\n",
              "      display: none;\n",
              "      fill: #1967D2;\n",
              "      height: 32px;\n",
              "      padding: 0 0 0 0;\n",
              "      width: 32px;\n",
              "    }\n",
              "\n",
              "    .colab-df-convert:hover {\n",
              "      background-color: #E2EBFA;\n",
              "      box-shadow: 0px 1px 2px rgba(60, 64, 67, 0.3), 0px 1px 3px 1px rgba(60, 64, 67, 0.15);\n",
              "      fill: #174EA6;\n",
              "    }\n",
              "\n",
              "    [theme=dark] .colab-df-convert {\n",
              "      background-color: #3B4455;\n",
              "      fill: #D2E3FC;\n",
              "    }\n",
              "\n",
              "    [theme=dark] .colab-df-convert:hover {\n",
              "      background-color: #434B5C;\n",
              "      box-shadow: 0px 1px 3px 1px rgba(0, 0, 0, 0.15);\n",
              "      filter: drop-shadow(0px 1px 2px rgba(0, 0, 0, 0.3));\n",
              "      fill: #FFFFFF;\n",
              "    }\n",
              "  </style>\n",
              "\n",
              "      <script>\n",
              "        const buttonEl =\n",
              "          document.querySelector('#df-2bc376b6-fb8a-4248-9e62-ef1209f56470 button.colab-df-convert');\n",
              "        buttonEl.style.display =\n",
              "          google.colab.kernel.accessAllowed ? 'block' : 'none';\n",
              "\n",
              "        async function convertToInteractive(key) {\n",
              "          const element = document.querySelector('#df-2bc376b6-fb8a-4248-9e62-ef1209f56470');\n",
              "          const dataTable =\n",
              "            await google.colab.kernel.invokeFunction('convertToInteractive',\n",
              "                                                     [key], {});\n",
              "          if (!dataTable) return;\n",
              "\n",
              "          const docLinkHtml = 'Like what you see? Visit the ' +\n",
              "            '<a target=\"_blank\" href=https://colab.research.google.com/notebooks/data_table.ipynb>data table notebook</a>'\n",
              "            + ' to learn more about interactive tables.';\n",
              "          element.innerHTML = '';\n",
              "          dataTable['output_type'] = 'display_data';\n",
              "          await google.colab.output.renderOutput(dataTable, element);\n",
              "          const docLink = document.createElement('div');\n",
              "          docLink.innerHTML = docLinkHtml;\n",
              "          element.appendChild(docLink);\n",
              "        }\n",
              "      </script>\n",
              "    </div>\n",
              "  </div>\n",
              "  "
            ]
          },
          "metadata": {},
          "execution_count": 27
        }
      ]
    },
    {
      "cell_type": "markdown",
      "source": [
        "#Testing strategy with equal weighted allocation"
      ],
      "metadata": {
        "id": "rm28LAbs2Alt"
      }
    },
    {
      "cell_type": "code",
      "source": [
        "portfolio1.mean(axis=1).values[0]     "
      ],
      "metadata": {
        "id": "PyXdZlYv2ft4",
        "colab": {
          "base_uri": "https://localhost:8080/"
        },
        "outputId": "fa4a251c-8210-49ff-fa32-a956e7e00195"
      },
      "execution_count": null,
      "outputs": [
        {
          "output_type": "execute_result",
          "data": {
            "text/plain": [
              "1.0378742150290798"
            ]
          },
          "metadata": {},
          "execution_count": 28
        }
      ]
    },
    {
      "cell_type": "code",
      "source": [
        "def pf_performance(date):\n",
        "  portfolio = mtl.loc[date:,get_top1(date)][1:2]\n",
        "  return portfolio.mean(axis=1).values[0]"
      ],
      "metadata": {
        "id": "fPEx6ke_2umX"
      },
      "execution_count": null,
      "outputs": []
    },
    {
      "cell_type": "code",
      "source": [
        "pf_performance('2010-12-31')"
      ],
      "metadata": {
        "id": "VcHRwHwM2-0E",
        "colab": {
          "base_uri": "https://localhost:8080/"
        },
        "outputId": "711d7174-44d4-4a56-e8c2-b5d384787717"
      },
      "execution_count": null,
      "outputs": [
        {
          "output_type": "execute_result",
          "data": {
            "text/plain": [
              "1.0378742150290798"
            ]
          },
          "metadata": {},
          "execution_count": 30
        }
      ]
    },
    {
      "cell_type": "code",
      "source": [
        "returns=[]\n",
        "for date in mtl.index[:-1]:\n",
        "  returns.append(pf_performance(date))"
      ],
      "metadata": {
        "id": "yLbnK3Db3WyE"
      },
      "execution_count": null,
      "outputs": []
    },
    {
      "cell_type": "code",
      "source": [
        "strat1=pd.Series(returns,index=mtl.index[1:])   #turns array into time series we take array from mtl for reference and need to remove first element as we have neglected it\n",
        "strat2=pd.Series([i - 0.003 for i in returns],index=mtl.index[1:]) #taking transaction costs and fees of 1%"
      ],
      "metadata": {
        "id": "M417W8cD3jXt"
      },
      "execution_count": null,
      "outputs": []
    },
    {
      "cell_type": "code",
      "source": [
        "nas_df = yf.download('^IXIC',start='2010-01-01')['Adj Close'].pct_change()+1\n",
        "nas_df=nas_df['2011-1-31':]"
      ],
      "metadata": {
        "id": "wG04GkaO6HHW",
        "colab": {
          "base_uri": "https://localhost:8080/"
        },
        "outputId": "8966ad26-b55a-4d5f-8283-ec732cb1a4c9"
      },
      "execution_count": null,
      "outputs": [
        {
          "output_type": "stream",
          "name": "stdout",
          "text": [
            "\r[*********************100%***********************]  1 of 1 completed\n"
          ]
        }
      ]
    },
    {
      "cell_type": "code",
      "source": [
        "sp500_df=yf.download('^GSPC',start='2010-01-01')['Adj Close'].pct_change()+1\n",
        "sp500_df=sp500_df['2011-1-31':]"
      ],
      "metadata": {
        "id": "E-0TI9Ho9_n7",
        "colab": {
          "base_uri": "https://localhost:8080/"
        },
        "outputId": "450287d7-bfaf-42df-9bf5-4fde6c4b1979"
      },
      "execution_count": null,
      "outputs": [
        {
          "output_type": "stream",
          "name": "stdout",
          "text": [
            "\r[*********************100%***********************]  1 of 1 completed\n"
          ]
        }
      ]
    },
    {
      "cell_type": "code",
      "source": [
        "#strat1.cumprod().plot()\n",
        "strat2.cumprod().plot()\n",
        "sp500_df.cumprod().plot()"
      ],
      "metadata": {
        "id": "PZsrBrz64nPj",
        "colab": {
          "base_uri": "https://localhost:8080/",
          "height": 296
        },
        "outputId": "66a14e4d-d7ec-43db-c0f8-fcb15253038b"
      },
      "execution_count": null,
      "outputs": [
        {
          "output_type": "execute_result",
          "data": {
            "text/plain": [
              "<matplotlib.axes._subplots.AxesSubplot at 0x7f6158732640>"
            ]
          },
          "metadata": {},
          "execution_count": 35
        },
        {
          "output_type": "display_data",
          "data": {
            "text/plain": [
              "<Figure size 432x288 with 1 Axes>"
            ],
            "image/png": "[encoded data removed]"
          },
          "metadata": {
            "needs_background": "light"
          }
        }
      ]
    },
    {
      "cell_type": "markdown",
      "source": [
        "#Testing strategy with mean variance portfolio\n",
        "Refer to Finance slides for more info\n"
      ],
      "metadata": {
        "id": "Oyob77M38pQI"
      }
    },
    {
      "cell_type": "markdown",
      "source": [
        "##calculating daily returns"
      ],
      "metadata": {
        "id": "bpv05izVHMtX"
      }
    },
    {
      "cell_type": "code",
      "source": [
        "dailylr = np.log(df/df.shift(1)).dropna()"
      ],
      "metadata": {
        "id": "EWjoWpBFHLnT"
      },
      "execution_count": null,
      "outputs": []
    },
    {
      "cell_type": "code",
      "source": [
        "dailypct = df.pct_change().dropna()"
      ],
      "metadata": {
        "id": "6FOiUuf2Qkmh"
      },
      "execution_count": null,
      "outputs": []
    },
    {
      "cell_type": "code",
      "source": [
        "dailypct.head()"
      ],
      "metadata": {
        "id": "MNUIGagwQoyn",
        "colab": {
          "base_uri": "https://localhost:8080/",
          "height": 413
        },
        "outputId": "ad0aba88-10e4-4676-9eab-b2330ee9b707"
      },
      "execution_count": null,
      "outputs": [
        {
          "output_type": "execute_result",
          "data": {
            "text/plain": [
              "                   A       AAL       AAP      AAPL       ABC       ABT  \\\n",
              "Date                                                                     \n",
              "2010-01-05 -0.010863  0.113207 -0.005944  0.001729 -0.007134 -0.008079   \n",
              "2010-01-06 -0.003553 -0.041431  0.008720 -0.015907 -0.009456  0.005554   \n",
              "2010-01-07 -0.001296  0.029469 -0.000247 -0.001849 -0.016037  0.008284   \n",
              "2010-01-08 -0.000324 -0.019084  0.003953  0.006648  0.010865  0.005112   \n",
              "2010-01-11  0.000649 -0.019456 -0.009842 -0.008821  0.011133  0.005086   \n",
              "\n",
              "                ACGL       ACN      ADBE       ADI  ...       WTW        WY  \\\n",
              "Date                                                ...                       \n",
              "2010-01-05 -0.003336  0.006180  0.016446 -0.001579  ... -0.002241  0.021229   \n",
              "2010-01-06 -0.004323  0.010631 -0.002122 -0.001897  ...  0.016099 -0.011057   \n",
              "2010-01-07 -0.005882 -0.000935 -0.019405 -0.007921  ... -0.002947 -0.004472   \n",
              "2010-01-08 -0.001972 -0.003978 -0.005422  0.005749  ... -0.001109 -0.009210   \n",
              "2010-01-11 -0.003106 -0.000940 -0.013083 -0.005716  ...  0.009989  0.006575   \n",
              "\n",
              "                WYNN       XEL       XOM      XRAY       YUM       ZBH  \\\n",
              "Date                                                                     \n",
              "2010-01-05  0.060819 -0.011860  0.003905 -0.011887 -0.003419  0.031656   \n",
              "2010-01-06 -0.013117  0.001921  0.008643  0.006588 -0.007149 -0.000323   \n",
              "2010-01-07  0.021356 -0.004312 -0.003141  0.013091 -0.000288  0.022940   \n",
              "2010-01-08 -0.007165  0.000481 -0.004012  0.000000  0.000288 -0.021004   \n",
              "2010-01-11 -0.003240  0.009620  0.011220  0.012921  0.017281  0.022100   \n",
              "\n",
              "                ZBRA      ZION  \n",
              "Date                            \n",
              "2010-01-05 -0.001744  0.035259  \n",
              "2010-01-06 -0.007687  0.086956  \n",
              "2010-01-07 -0.025000  0.112000  \n",
              "2010-01-08 -0.003250 -0.016187  \n",
              "2010-01-11  0.003261  0.006094  \n",
              "\n",
              "[5 rows x 438 columns]"
            ],
            "text/html": [
              "\n",
              "  <div id=\"df-9682d035-774a-4f3f-a9f2-112f60108453\">\n",
              "    <div class=\"colab-df-container\">\n",
              "      <div>\n",
              "<style scoped>\n",
              "    .dataframe tbody tr th:only-of-type {\n",
              "        vertical-align: middle;\n",
              "    }\n",
              "\n",
              "    .dataframe tbody tr th {\n",
              "        vertical-align: top;\n",
              "    }\n",
              "\n",
              "    .dataframe thead th {\n",
              "        text-align: right;\n",
              "    }\n",
              "</style>\n",
              "<table border=\"1\" class=\"dataframe\">\n",
              "  <thead>\n",
              "    <tr style=\"text-align: right;\">\n",
              "      <th></th>\n",
              "      <th>A</th>\n",
              "      <th>AAL</th>\n",
              "      <th>AAP</th>\n",
              "      <th>AAPL</th>\n",
              "      <th>ABC</th>\n",
              "      <th>ABT</th>\n",
              "      <th>ACGL</th>\n",
              "      <th>ACN</th>\n",
              "      <th>ADBE</th>\n",
              "      <th>ADI</th>\n",
              "      <th>...</th>\n",
              "      <th>WTW</th>\n",
              "      <th>WY</th>\n",
              "      <th>WYNN</th>\n",
              "      <th>XEL</th>\n",
              "      <th>XOM</th>\n",
              "      <th>XRAY</th>\n",
              "      <th>YUM</th>\n",
              "      <th>ZBH</th>\n",
              "      <th>ZBRA</th>\n",
              "      <th>ZION</th>\n",
              "    </tr>\n",
              "    <tr>\n",
              "      <th>Date</th>\n",
              "      <th></th>\n",
              "      <th></th>\n",
              "      <th></th>\n",
              "      <th></th>\n",
              "      <th></th>\n",
              "      <th></th>\n",
              "      <th></th>\n",
              "      <th></th>\n",
              "      <th></th>\n",
              "      <th></th>\n",
              "      <th></th>\n",
              "      <th></th>\n",
              "      <th></th>\n",
              "      <th></th>\n",
              "      <th></th>\n",
              "      <th></th>\n",
              "      <th></th>\n",
              "      <th></th>\n",
              "      <th></th>\n",
              "      <th></th>\n",
              "      <th></th>\n",
              "    </tr>\n",
              "  </thead>\n",
              "  <tbody>\n",
              "    <tr>\n",
              "      <th>2010-01-05</th>\n",
              "      <td>-0.010863</td>\n",
              "      <td>0.113207</td>\n",
              "      <td>-0.005944</td>\n",
              "      <td>0.001729</td>\n",
              "      <td>-0.007134</td>\n",
              "      <td>-0.008079</td>\n",
              "      <td>-0.003336</td>\n",
              "      <td>0.006180</td>\n",
              "      <td>0.016446</td>\n",
              "      <td>-0.001579</td>\n",
              "      <td>...</td>\n",
              "      <td>-0.002241</td>\n",
              "      <td>0.021229</td>\n",
              "      <td>0.060819</td>\n",
              "      <td>-0.011860</td>\n",
              "      <td>0.003905</td>\n",
              "      <td>-0.011887</td>\n",
              "      <td>-0.003419</td>\n",
              "      <td>0.031656</td>\n",
              "      <td>-0.001744</td>\n",
              "      <td>0.035259</td>\n",
              "    </tr>\n",
              "    <tr>\n",
              "      <th>2010-01-06</th>\n",
              "      <td>-0.003553</td>\n",
              "      <td>-0.041431</td>\n",
              "      <td>0.008720</td>\n",
              "      <td>-0.015907</td>\n",
              "      <td>-0.009456</td>\n",
              "      <td>0.005554</td>\n",
              "      <td>-0.004323</td>\n",
              "      <td>0.010631</td>\n",
              "      <td>-0.002122</td>\n",
              "      <td>-0.001897</td>\n",
              "      <td>...</td>\n",
              "      <td>0.016099</td>\n",
              "      <td>-0.011057</td>\n",
              "      <td>-0.013117</td>\n",
              "      <td>0.001921</td>\n",
              "      <td>0.008643</td>\n",
              "      <td>0.006588</td>\n",
              "      <td>-0.007149</td>\n",
              "      <td>-0.000323</td>\n",
              "      <td>-0.007687</td>\n",
              "      <td>0.086956</td>\n",
              "    </tr>\n",
              "    <tr>\n",
              "      <th>2010-01-07</th>\n",
              "      <td>-0.001296</td>\n",
              "      <td>0.029469</td>\n",
              "      <td>-0.000247</td>\n",
              "      <td>-0.001849</td>\n",
              "      <td>-0.016037</td>\n",
              "      <td>0.008284</td>\n",
              "      <td>-0.005882</td>\n",
              "      <td>-0.000935</td>\n",
              "      <td>-0.019405</td>\n",
              "      <td>-0.007921</td>\n",
              "      <td>...</td>\n",
              "      <td>-0.002947</td>\n",
              "      <td>-0.004472</td>\n",
              "      <td>0.021356</td>\n",
              "      <td>-0.004312</td>\n",
              "      <td>-0.003141</td>\n",
              "      <td>0.013091</td>\n",
              "      <td>-0.000288</td>\n",
              "      <td>0.022940</td>\n",
              "      <td>-0.025000</td>\n",
              "      <td>0.112000</td>\n",
              "    </tr>\n",
              "    <tr>\n",
              "      <th>2010-01-08</th>\n",
              "      <td>-0.000324</td>\n",
              "      <td>-0.019084</td>\n",
              "      <td>0.003953</td>\n",
              "      <td>0.006648</td>\n",
              "      <td>0.010865</td>\n",
              "      <td>0.005112</td>\n",
              "      <td>-0.001972</td>\n",
              "      <td>-0.003978</td>\n",
              "      <td>-0.005422</td>\n",
              "      <td>0.005749</td>\n",
              "      <td>...</td>\n",
              "      <td>-0.001109</td>\n",
              "      <td>-0.009210</td>\n",
              "      <td>-0.007165</td>\n",
              "      <td>0.000481</td>\n",
              "      <td>-0.004012</td>\n",
              "      <td>0.000000</td>\n",
              "      <td>0.000288</td>\n",
              "      <td>-0.021004</td>\n",
              "      <td>-0.003250</td>\n",
              "      <td>-0.016187</td>\n",
              "    </tr>\n",
              "    <tr>\n",
              "      <th>2010-01-11</th>\n",
              "      <td>0.000649</td>\n",
              "      <td>-0.019456</td>\n",
              "      <td>-0.009842</td>\n",
              "      <td>-0.008821</td>\n",
              "      <td>0.011133</td>\n",
              "      <td>0.005086</td>\n",
              "      <td>-0.003106</td>\n",
              "      <td>-0.000940</td>\n",
              "      <td>-0.013083</td>\n",
              "      <td>-0.005716</td>\n",
              "      <td>...</td>\n",
              "      <td>0.009989</td>\n",
              "      <td>0.006575</td>\n",
              "      <td>-0.003240</td>\n",
              "      <td>0.009620</td>\n",
              "      <td>0.011220</td>\n",
              "      <td>0.012921</td>\n",
              "      <td>0.017281</td>\n",
              "      <td>0.022100</td>\n",
              "      <td>0.003261</td>\n",
              "      <td>0.006094</td>\n",
              "    </tr>\n",
              "  </tbody>\n",
              "</table>\n",
              "<p>5 rows × 438 columns</p>\n",
              "</div>\n",
              "      <button class=\"colab-df-convert\" onclick=\"convertToInteractive('df-9682d035-774a-4f3f-a9f2-112f60108453')\"\n",
              "              title=\"Convert this dataframe to an interactive table.\"\n",
              "              style=\"display:none;\">\n",
              "        \n",
              "  <svg xmlns=\"http://www.w3.org/2000/svg\" height=\"24px\"viewBox=\"0 0 24 24\"\n",
              "       width=\"24px\">\n",
              "    <path d=\"M0 0h24v24H0V0z\" fill=\"none\"/>\n",
              "    <path d=\"M18.56 5.44l.94 2.06.94-2.06 2.06-.94-2.06-.94-.94-2.06-.94 2.06-2.06.94zm-11 1L8.5 8.5l.94-2.06 2.06-.94-2.06-.94L8.5 2.5l-.94 2.06-2.06.94zm10 10l.94 2.06.94-2.06 2.06-.94-2.06-.94-.94-2.06-.94 2.06-2.06.94z\"/><path d=\"M17.41 7.96l-1.37-1.37c-.4-.4-.92-.59-1.43-.59-.52 0-1.04.2-1.43.59L10.3 9.45l-7.72 7.72c-.78.78-.78 2.05 0 2.83L4 21.41c.39.39.9.59 1.41.59.51 0 1.02-.2 1.41-.59l7.78-7.78 2.81-2.81c.8-.78.8-2.07 0-2.86zM5.41 20L4 18.59l7.72-7.72 1.47 1.35L5.41 20z\"/>\n",
              "  </svg>\n",
              "      </button>\n",
              "      \n",
              "  <style>\n",
              "    .colab-df-container {\n",
              "      display:flex;\n",
              "      flex-wrap:wrap;\n",
              "      gap: 12px;\n",
              "    }\n",
              "\n",
              "    .colab-df-convert {\n",
              "      background-color: #E8F0FE;\n",
              "      border: none;\n",
              "      border-radius: 50%;\n",
              "      cursor: pointer;\n",
              "      display: none;\n",
              "      fill: #1967D2;\n",
              "      height: 32px;\n",
              "      padding: 0 0 0 0;\n",
              "      width: 32px;\n",
              "    }\n",
              "\n",
              "    .colab-df-convert:hover {\n",
              "      background-color: #E2EBFA;\n",
              "      box-shadow: 0px 1px 2px rgba(60, 64, 67, 0.3), 0px 1px 3px 1px rgba(60, 64, 67, 0.15);\n",
              "      fill: #174EA6;\n",
              "    }\n",
              "\n",
              "    [theme=dark] .colab-df-convert {\n",
              "      background-color: #3B4455;\n",
              "      fill: #D2E3FC;\n",
              "    }\n",
              "\n",
              "    [theme=dark] .colab-df-convert:hover {\n",
              "      background-color: #434B5C;\n",
              "      box-shadow: 0px 1px 3px 1px rgba(0, 0, 0, 0.15);\n",
              "      filter: drop-shadow(0px 1px 2px rgba(0, 0, 0, 0.3));\n",
              "      fill: #FFFFFF;\n",
              "    }\n",
              "  </style>\n",
              "\n",
              "      <script>\n",
              "        const buttonEl =\n",
              "          document.querySelector('#df-9682d035-774a-4f3f-a9f2-112f60108453 button.colab-df-convert');\n",
              "        buttonEl.style.display =\n",
              "          google.colab.kernel.accessAllowed ? 'block' : 'none';\n",
              "\n",
              "        async function convertToInteractive(key) {\n",
              "          const element = document.querySelector('#df-9682d035-774a-4f3f-a9f2-112f60108453');\n",
              "          const dataTable =\n",
              "            await google.colab.kernel.invokeFunction('convertToInteractive',\n",
              "                                                     [key], {});\n",
              "          if (!dataTable) return;\n",
              "\n",
              "          const docLinkHtml = 'Like what you see? Visit the ' +\n",
              "            '<a target=\"_blank\" href=https://colab.research.google.com/notebooks/data_table.ipynb>data table notebook</a>'\n",
              "            + ' to learn more about interactive tables.';\n",
              "          element.innerHTML = '';\n",
              "          dataTable['output_type'] = 'display_data';\n",
              "          await google.colab.output.renderOutput(dataTable, element);\n",
              "          const docLink = document.createElement('div');\n",
              "          docLink.innerHTML = docLinkHtml;\n",
              "          element.appendChild(docLink);\n",
              "        }\n",
              "      </script>\n",
              "    </div>\n",
              "  </div>\n",
              "  "
            ]
          },
          "metadata": {},
          "execution_count": 21
        }
      ]
    },
    {
      "cell_type": "code",
      "source": [
        "dailylr.head()"
      ],
      "metadata": {
        "id": "u5yKM7WOLo-p",
        "colab": {
          "base_uri": "https://localhost:8080/",
          "height": 413
        },
        "outputId": "7ea5cadd-18d5-443c-d0b8-86f9fb21e46d"
      },
      "execution_count": null,
      "outputs": [
        {
          "output_type": "execute_result",
          "data": {
            "text/plain": [
              "                   A       AAL       AAP      AAPL       ABC       ABT  \\\n",
              "Date                                                                     \n",
              "2010-01-05 -0.010922  0.107245 -0.005961  0.001727 -0.007160 -0.008112   \n",
              "2010-01-06 -0.003560 -0.042314  0.008682 -0.016034 -0.009501  0.005538   \n",
              "2010-01-07 -0.001297  0.029043 -0.000247 -0.001850 -0.016167  0.008250   \n",
              "2010-01-08 -0.000324 -0.019268  0.003945  0.006626  0.010806  0.005099   \n",
              "2010-01-11  0.000649 -0.019647 -0.009891 -0.008861  0.011071  0.005073   \n",
              "\n",
              "                ACGL       ACN      ADBE       ADI  ...       WTW        WY  \\\n",
              "Date                                                ...                       \n",
              "2010-01-05 -0.003341  0.006161  0.016313 -0.001580  ... -0.002244  0.021007   \n",
              "2010-01-06 -0.004332  0.010575 -0.002124 -0.001899  ...  0.015971 -0.011119   \n",
              "2010-01-07 -0.005900 -0.000935 -0.019595 -0.007953  ... -0.002952 -0.004482   \n",
              "2010-01-08 -0.001974 -0.003986 -0.005436  0.005732  ... -0.001110 -0.009253   \n",
              "2010-01-11 -0.003110 -0.000940 -0.013169 -0.005732  ...  0.009940  0.006553   \n",
              "\n",
              "                WYNN       XEL       XOM      XRAY       YUM       ZBH  \\\n",
              "Date                                                                     \n",
              "2010-01-05  0.059041 -0.011931  0.003897 -0.011959 -0.003425  0.031165   \n",
              "2010-01-06 -0.013204  0.001919  0.008605  0.006566 -0.007175 -0.000323   \n",
              "2010-01-07  0.021131 -0.004321 -0.003146  0.013006 -0.000288  0.022681   \n",
              "2010-01-08 -0.007191  0.000481 -0.004020  0.000000  0.000288 -0.021228   \n",
              "2010-01-11 -0.003245  0.009574  0.011157  0.012838  0.017133  0.021860   \n",
              "\n",
              "                ZBRA      ZION  \n",
              "Date                            \n",
              "2010-01-05 -0.001745  0.034652  \n",
              "2010-01-06 -0.007717  0.083382  \n",
              "2010-01-07 -0.025318  0.106160  \n",
              "2010-01-08 -0.003256 -0.016319  \n",
              "2010-01-11  0.003256  0.006075  \n",
              "\n",
              "[5 rows x 438 columns]"
            ],
            "text/html": [
              "\n",
              "  <div id=\"df-a2bca75e-783a-4b1c-84ed-1efe5b03c224\">\n",
              "    <div class=\"colab-df-container\">\n",
              "      <div>\n",
              "<style scoped>\n",
              "    .dataframe tbody tr th:only-of-type {\n",
              "        vertical-align: middle;\n",
              "    }\n",
              "\n",
              "    .dataframe tbody tr th {\n",
              "        vertical-align: top;\n",
              "    }\n",
              "\n",
              "    .dataframe thead th {\n",
              "        text-align: right;\n",
              "    }\n",
              "</style>\n",
              "<table border=\"1\" class=\"dataframe\">\n",
              "  <thead>\n",
              "    <tr style=\"text-align: right;\">\n",
              "      <th></th>\n",
              "      <th>A</th>\n",
              "      <th>AAL</th>\n",
              "      <th>AAP</th>\n",
              "      <th>AAPL</th>\n",
              "      <th>ABC</th>\n",
              "      <th>ABT</th>\n",
              "      <th>ACGL</th>\n",
              "      <th>ACN</th>\n",
              "      <th>ADBE</th>\n",
              "      <th>ADI</th>\n",
              "      <th>...</th>\n",
              "      <th>WTW</th>\n",
              "      <th>WY</th>\n",
              "      <th>WYNN</th>\n",
              "      <th>XEL</th>\n",
              "      <th>XOM</th>\n",
              "      <th>XRAY</th>\n",
              "      <th>YUM</th>\n",
              "      <th>ZBH</th>\n",
              "      <th>ZBRA</th>\n",
              "      <th>ZION</th>\n",
              "    </tr>\n",
              "    <tr>\n",
              "      <th>Date</th>\n",
              "      <th></th>\n",
              "      <th></th>\n",
              "      <th></th>\n",
              "      <th></th>\n",
              "      <th></th>\n",
              "      <th></th>\n",
              "      <th></th>\n",
              "      <th></th>\n",
              "      <th></th>\n",
              "      <th></th>\n",
              "      <th></th>\n",
              "      <th></th>\n",
              "      <th></th>\n",
              "      <th></th>\n",
              "      <th></th>\n",
              "      <th></th>\n",
              "      <th></th>\n",
              "      <th></th>\n",
              "      <th></th>\n",
              "      <th></th>\n",
              "      <th></th>\n",
              "    </tr>\n",
              "  </thead>\n",
              "  <tbody>\n",
              "    <tr>\n",
              "      <th>2010-01-05</th>\n",
              "      <td>-0.010922</td>\n",
              "      <td>0.107245</td>\n",
              "      <td>-0.005961</td>\n",
              "      <td>0.001727</td>\n",
              "      <td>-0.007160</td>\n",
              "      <td>-0.008112</td>\n",
              "      <td>-0.003341</td>\n",
              "      <td>0.006161</td>\n",
              "      <td>0.016313</td>\n",
              "      <td>-0.001580</td>\n",
              "      <td>...</td>\n",
              "      <td>-0.002244</td>\n",
              "      <td>0.021007</td>\n",
              "      <td>0.059041</td>\n",
              "      <td>-0.011931</td>\n",
              "      <td>0.003897</td>\n",
              "      <td>-0.011959</td>\n",
              "      <td>-0.003425</td>\n",
              "      <td>0.031165</td>\n",
              "      <td>-0.001745</td>\n",
              "      <td>0.034652</td>\n",
              "    </tr>\n",
              "    <tr>\n",
              "      <th>2010-01-06</th>\n",
              "      <td>-0.003560</td>\n",
              "      <td>-0.042314</td>\n",
              "      <td>0.008682</td>\n",
              "      <td>-0.016034</td>\n",
              "      <td>-0.009501</td>\n",
              "      <td>0.005538</td>\n",
              "      <td>-0.004332</td>\n",
              "      <td>0.010575</td>\n",
              "      <td>-0.002124</td>\n",
              "      <td>-0.001899</td>\n",
              "      <td>...</td>\n",
              "      <td>0.015971</td>\n",
              "      <td>-0.011119</td>\n",
              "      <td>-0.013204</td>\n",
              "      <td>0.001919</td>\n",
              "      <td>0.008605</td>\n",
              "      <td>0.006566</td>\n",
              "      <td>-0.007175</td>\n",
              "      <td>-0.000323</td>\n",
              "      <td>-0.007717</td>\n",
              "      <td>0.083382</td>\n",
              "    </tr>\n",
              "    <tr>\n",
              "      <th>2010-01-07</th>\n",
              "      <td>-0.001297</td>\n",
              "      <td>0.029043</td>\n",
              "      <td>-0.000247</td>\n",
              "      <td>-0.001850</td>\n",
              "      <td>-0.016167</td>\n",
              "      <td>0.008250</td>\n",
              "      <td>-0.005900</td>\n",
              "      <td>-0.000935</td>\n",
              "      <td>-0.019595</td>\n",
              "      <td>-0.007953</td>\n",
              "      <td>...</td>\n",
              "      <td>-0.002952</td>\n",
              "      <td>-0.004482</td>\n",
              "      <td>0.021131</td>\n",
              "      <td>-0.004321</td>\n",
              "      <td>-0.003146</td>\n",
              "      <td>0.013006</td>\n",
              "      <td>-0.000288</td>\n",
              "      <td>0.022681</td>\n",
              "      <td>-0.025318</td>\n",
              "      <td>0.106160</td>\n",
              "    </tr>\n",
              "    <tr>\n",
              "      <th>2010-01-08</th>\n",
              "      <td>-0.000324</td>\n",
              "      <td>-0.019268</td>\n",
              "      <td>0.003945</td>\n",
              "      <td>0.006626</td>\n",
              "      <td>0.010806</td>\n",
              "      <td>0.005099</td>\n",
              "      <td>-0.001974</td>\n",
              "      <td>-0.003986</td>\n",
              "      <td>-0.005436</td>\n",
              "      <td>0.005732</td>\n",
              "      <td>...</td>\n",
              "      <td>-0.001110</td>\n",
              "      <td>-0.009253</td>\n",
              "      <td>-0.007191</td>\n",
              "      <td>0.000481</td>\n",
              "      <td>-0.004020</td>\n",
              "      <td>0.000000</td>\n",
              "      <td>0.000288</td>\n",
              "      <td>-0.021228</td>\n",
              "      <td>-0.003256</td>\n",
              "      <td>-0.016319</td>\n",
              "    </tr>\n",
              "    <tr>\n",
              "      <th>2010-01-11</th>\n",
              "      <td>0.000649</td>\n",
              "      <td>-0.019647</td>\n",
              "      <td>-0.009891</td>\n",
              "      <td>-0.008861</td>\n",
              "      <td>0.011071</td>\n",
              "      <td>0.005073</td>\n",
              "      <td>-0.003110</td>\n",
              "      <td>-0.000940</td>\n",
              "      <td>-0.013169</td>\n",
              "      <td>-0.005732</td>\n",
              "      <td>...</td>\n",
              "      <td>0.009940</td>\n",
              "      <td>0.006553</td>\n",
              "      <td>-0.003245</td>\n",
              "      <td>0.009574</td>\n",
              "      <td>0.011157</td>\n",
              "      <td>0.012838</td>\n",
              "      <td>0.017133</td>\n",
              "      <td>0.021860</td>\n",
              "      <td>0.003256</td>\n",
              "      <td>0.006075</td>\n",
              "    </tr>\n",
              "  </tbody>\n",
              "</table>\n",
              "<p>5 rows × 438 columns</p>\n",
              "</div>\n",
              "      <button class=\"colab-df-convert\" onclick=\"convertToInteractive('df-a2bca75e-783a-4b1c-84ed-1efe5b03c224')\"\n",
              "              title=\"Convert this dataframe to an interactive table.\"\n",
              "              style=\"display:none;\">\n",
              "        \n",
              "  <svg xmlns=\"http://www.w3.org/2000/svg\" height=\"24px\"viewBox=\"0 0 24 24\"\n",
              "       width=\"24px\">\n",
              "    <path d=\"M0 0h24v24H0V0z\" fill=\"none\"/>\n",
              "    <path d=\"M18.56 5.44l.94 2.06.94-2.06 2.06-.94-2.06-.94-.94-2.06-.94 2.06-2.06.94zm-11 1L8.5 8.5l.94-2.06 2.06-.94-2.06-.94L8.5 2.5l-.94 2.06-2.06.94zm10 10l.94 2.06.94-2.06 2.06-.94-2.06-.94-.94-2.06-.94 2.06-2.06.94z\"/><path d=\"M17.41 7.96l-1.37-1.37c-.4-.4-.92-.59-1.43-.59-.52 0-1.04.2-1.43.59L10.3 9.45l-7.72 7.72c-.78.78-.78 2.05 0 2.83L4 21.41c.39.39.9.59 1.41.59.51 0 1.02-.2 1.41-.59l7.78-7.78 2.81-2.81c.8-.78.8-2.07 0-2.86zM5.41 20L4 18.59l7.72-7.72 1.47 1.35L5.41 20z\"/>\n",
              "  </svg>\n",
              "      </button>\n",
              "      \n",
              "  <style>\n",
              "    .colab-df-container {\n",
              "      display:flex;\n",
              "      flex-wrap:wrap;\n",
              "      gap: 12px;\n",
              "    }\n",
              "\n",
              "    .colab-df-convert {\n",
              "      background-color: #E8F0FE;\n",
              "      border: none;\n",
              "      border-radius: 50%;\n",
              "      cursor: pointer;\n",
              "      display: none;\n",
              "      fill: #1967D2;\n",
              "      height: 32px;\n",
              "      padding: 0 0 0 0;\n",
              "      width: 32px;\n",
              "    }\n",
              "\n",
              "    .colab-df-convert:hover {\n",
              "      background-color: #E2EBFA;\n",
              "      box-shadow: 0px 1px 2px rgba(60, 64, 67, 0.3), 0px 1px 3px 1px rgba(60, 64, 67, 0.15);\n",
              "      fill: #174EA6;\n",
              "    }\n",
              "\n",
              "    [theme=dark] .colab-df-convert {\n",
              "      background-color: #3B4455;\n",
              "      fill: #D2E3FC;\n",
              "    }\n",
              "\n",
              "    [theme=dark] .colab-df-convert:hover {\n",
              "      background-color: #434B5C;\n",
              "      box-shadow: 0px 1px 3px 1px rgba(0, 0, 0, 0.15);\n",
              "      filter: drop-shadow(0px 1px 2px rgba(0, 0, 0, 0.3));\n",
              "      fill: #FFFFFF;\n",
              "    }\n",
              "  </style>\n",
              "\n",
              "      <script>\n",
              "        const buttonEl =\n",
              "          document.querySelector('#df-a2bca75e-783a-4b1c-84ed-1efe5b03c224 button.colab-df-convert');\n",
              "        buttonEl.style.display =\n",
              "          google.colab.kernel.accessAllowed ? 'block' : 'none';\n",
              "\n",
              "        async function convertToInteractive(key) {\n",
              "          const element = document.querySelector('#df-a2bca75e-783a-4b1c-84ed-1efe5b03c224');\n",
              "          const dataTable =\n",
              "            await google.colab.kernel.invokeFunction('convertToInteractive',\n",
              "                                                     [key], {});\n",
              "          if (!dataTable) return;\n",
              "\n",
              "          const docLinkHtml = 'Like what you see? Visit the ' +\n",
              "            '<a target=\"_blank\" href=https://colab.research.google.com/notebooks/data_table.ipynb>data table notebook</a>'\n",
              "            + ' to learn more about interactive tables.';\n",
              "          element.innerHTML = '';\n",
              "          dataTable['output_type'] = 'display_data';\n",
              "          await google.colab.output.renderOutput(dataTable, element);\n",
              "          const docLink = document.createElement('div');\n",
              "          docLink.innerHTML = docLinkHtml;\n",
              "          element.appendChild(docLink);\n",
              "        }\n",
              "      </script>\n",
              "    </div>\n",
              "  </div>\n",
              "  "
            ]
          },
          "metadata": {},
          "execution_count": 22
        }
      ]
    },
    {
      "cell_type": "markdown",
      "source": [
        "##function to calculate cov matrix"
      ],
      "metadata": {
        "id": "UM7VAZqBQQBA"
      }
    },
    {
      "cell_type": "code",
      "source": [
        "ret1 = dailypct[:'2011-01-31']\n",
        "np.shape(ret1[-251:])"
      ],
      "metadata": {
        "colab": {
          "base_uri": "https://localhost:8080/"
        },
        "id": "fAfn5FC2nz4e",
        "outputId": "0c222d0e-7983-4f85-c483-97d5b60eda11"
      },
      "execution_count": null,
      "outputs": [
        {
          "output_type": "execute_result",
          "data": {
            "text/plain": [
              "(251, 438)"
            ]
          },
          "metadata": {},
          "execution_count": 23
        }
      ]
    },
    {
      "cell_type": "code",
      "source": [
        "ret1.mean()"
      ],
      "metadata": {
        "id": "adh7IeUUOFkX",
        "colab": {
          "base_uri": "https://localhost:8080/"
        },
        "outputId": "ef16ab66-8a45-427e-9fea-40d956f2319c"
      },
      "execution_count": null,
      "outputs": [
        {
          "output_type": "execute_result",
          "data": {
            "text/plain": [
              "A       0.001253\n",
              "AAL     0.003409\n",
              "AAP     0.001818\n",
              "AAPL    0.001840\n",
              "ABC     0.001242\n",
              "          ...   \n",
              "XRAY    0.000141\n",
              "YUM     0.001256\n",
              "ZBH     0.000070\n",
              "ZBRA    0.001253\n",
              "ZION    0.002556\n",
              "Length: 438, dtype: float64"
            ]
          },
          "metadata": {},
          "execution_count": 24
        }
      ]
    },
    {
      "cell_type": "code",
      "source": [
        "def ret_matrix(stocks,date):\n",
        "  returns = dailypct[:date][-251:]\n",
        "  negative_returns=returns[returns<0]\n",
        "  negative_returns=negative_returns.replace(np.nan,0)\n",
        "  negative_returns = negative_returns[stocks].T\n",
        "  mean_returns = returns.mean()\n",
        "  mean_returns = mean_returns[stocks]\n",
        "  returns = returns[stocks].T\n",
        "  return np.cov(returns),mean_returns,np.cov(negative_returns)\n"
      ],
      "metadata": {
        "id": "BraiGnXjQWi9"
      },
      "execution_count": null,
      "outputs": []
    },
    {
      "cell_type": "code",
      "source": [
        "ret_matrix(get_top1('2010-12-31'),'2010-12-31')[1]"
      ],
      "metadata": {
        "id": "OApfBgPdCVgj",
        "colab": {
          "base_uri": "https://localhost:8080/"
        },
        "outputId": "a2f8bae4-7c1f-4f0b-951e-5434e6848f20"
      },
      "execution_count": null,
      "outputs": [
        {
          "output_type": "execute_result",
          "data": {
            "text/plain": [
              "URI     0.003826\n",
              "RCL     0.002880\n",
              "AIG     0.003207\n",
              "SWKS    0.002890\n",
              "BWA     0.003315\n",
              "F       0.002244\n",
              "PXD     0.002382\n",
              "LVS     0.004642\n",
              "FTNT    0.002672\n",
              "WYNN    0.002620\n",
              "dtype: float64"
            ]
          },
          "metadata": {},
          "execution_count": 49
        }
      ]
    },
    {
      "cell_type": "markdown",
      "source": [
        "##function to calculate portfolio performance returns, std"
      ],
      "metadata": {
        "id": "hzj8KzT_V2Zs"
      }
    },
    {
      "cell_type": "code",
      "source": [
        "def portfolio_performance(mean_returns,cov_matrix,weights):\n",
        "  returns = np.sum(mean_returns*weights)\n",
        "  std = np.sqrt(np.dot(weights.T,np.dot(cov_matrix,weights)))*np.sqrt(252)\n",
        "  return returns, std"
      ],
      "metadata": {
        "id": "jLEO95BQEN2l"
      },
      "execution_count": null,
      "outputs": []
    },
    {
      "cell_type": "code",
      "source": [
        "weights = np.ones(10)*0.1"
      ],
      "metadata": {
        "id": "5fYhcrmXEOAL"
      },
      "execution_count": null,
      "outputs": []
    },
    {
      "cell_type": "code",
      "source": [
        "cov_matrix , meanReturns, sortino_matrix = ret_matrix(get_top1('2010-12-31'),'2010-12-31')\n",
        "returns, std = portfolio_performance(meanReturns,sortino_matrix,weights)"
      ],
      "metadata": {
        "id": "GjofnBz0ME2p"
      },
      "execution_count": null,
      "outputs": []
    },
    {
      "cell_type": "code",
      "source": [
        "print(round(returns*100,2),round(std*100,2))"
      ],
      "metadata": {
        "colab": {
          "base_uri": "https://localhost:8080/"
        },
        "id": "oXvJOaSDNT-H",
        "outputId": "39eedca9-266f-47ce-a78c-e8deeabbdb85"
      },
      "execution_count": null,
      "outputs": [
        {
          "output_type": "stream",
          "name": "stdout",
          "text": [
            "0.31 17.88\n"
          ]
        }
      ]
    },
    {
      "cell_type": "code",
      "source": [
        "import scipy.optimize as sc"
      ],
      "metadata": {
        "id": "RZIQjJiCS8i6"
      },
      "execution_count": null,
      "outputs": []
    },
    {
      "cell_type": "markdown",
      "source": [
        "##maximise Sharpe ratio"
      ],
      "metadata": {
        "id": "rgTB_6uLjYD1"
      }
    },
    {
      "cell_type": "code",
      "source": [
        "def negativeSR(weights,meanReturns,cov_matrix,riskfreerate=0):\n",
        "  preturns, pstd = portfolio_performance(meanReturns,cov_matrix,weights)\n",
        "  return -(preturns-riskfreerate)/pstd\n",
        "\n",
        "def maxSR(meanReturns,cov_matrix,riskfreerate = 0,constraintset= (0,1)):\n",
        "  \"minimise the negative sharpe ratio\"\n",
        "  args = (meanReturns,cov_matrix,riskfreerate)\n",
        "  constraints = ({'type':'eq','fun':lambda x: np.sum(x)-1})\n",
        "  bounds = tuple(constraintset for asset in range(10))\n",
        "  result = sc.minimize(negativeSR,np.ones(10)*0.1,args=args,method = 'SLSQP',bounds=bounds,constraints=constraints)\n",
        "  return result"
      ],
      "metadata": {
        "id": "gdTSFlzHQ-pC"
      },
      "execution_count": null,
      "outputs": []
    },
    {
      "cell_type": "code",
      "source": [
        "result=maxSR(meanReturns,cov_matrix)"
      ],
      "metadata": {
        "id": "AZtVyP4PTqqp"
      },
      "execution_count": null,
      "outputs": []
    },
    {
      "cell_type": "code",
      "source": [
        "final_weights=np.round(result['x'],4)"
      ],
      "metadata": {
        "id": "oqCFi2JYT6vD"
      },
      "execution_count": null,
      "outputs": []
    },
    {
      "cell_type": "code",
      "source": [
        "finalreturn = np.sum(portfolio1*final_weights,axis=1)\n",
        "finalreturn[0]"
      ],
      "metadata": {
        "colab": {
          "base_uri": "https://localhost:8080/"
        },
        "id": "mUeSwoafUcXf",
        "outputId": "a1d1976e-8c82-41c4-a6db-c9a606143c7a"
      },
      "execution_count": null,
      "outputs": [
        {
          "output_type": "execute_result",
          "data": {
            "text/plain": [
              "1.0407640506852032"
            ]
          },
          "metadata": {},
          "execution_count": 45
        }
      ]
    },
    {
      "cell_type": "markdown",
      "source": [
        "Minimise variance - mean variance portfolio"
      ],
      "metadata": {
        "id": "t7XRx1HVjdp-"
      }
    },
    {
      "cell_type": "code",
      "source": [
        "def mean_variance(weights,meanReturns,cov_matrix):\n",
        "  mean_var_returns, mean_var_std = portfolio_performance(meanReturns,cov_matrix,weights)\n",
        "  return mean_var_std\n",
        "\n",
        "def MV_portfolio(meanReturns,cov_matrix,constraintset= (0,1)):\n",
        "  \"minimise the negative sharpe ratio\"\n",
        "  args = (meanReturns,cov_matrix)\n",
        "  constraints = ({'type':'eq','fun':lambda x: np.sum(x)-1})\n",
        "  bounds = tuple(constraintset for asset in range(10))\n",
        "  result = sc.minimize(mean_variance,np.ones(10)*0.1,args=args,method = 'SLSQP',bounds=bounds,constraints=constraints)\n",
        "  return result"
      ],
      "metadata": {
        "id": "5VmO0lx3jj7X"
      },
      "execution_count": null,
      "outputs": []
    },
    {
      "cell_type": "code",
      "source": [
        "result_mv = MV_portfolio(meanReturns,cov_matrix)\n",
        "final_weights_mv=np.round(result_mv['x'],4)\n",
        "finalreturn_mv = np.sum(portfolio1*final_weights_mv,axis=1)\n",
        "finalreturn_mv[0]"
      ],
      "metadata": {
        "colab": {
          "base_uri": "https://localhost:8080/"
        },
        "id": "LCLEcb3VYpQ8",
        "outputId": "aef74cc4-1f82-4a4a-9560-b6b83dd5c703"
      },
      "execution_count": null,
      "outputs": [
        {
          "output_type": "execute_result",
          "data": {
            "text/plain": [
              "1.0572540958916794"
            ]
          },
          "metadata": {},
          "execution_count": 47
        }
      ]
    },
    {
      "cell_type": "markdown",
      "source": [
        "##combined portfolio function"
      ],
      "metadata": {
        "id": "CiX5hMlOXn-7"
      }
    },
    {
      "cell_type": "markdown",
      "source": [
        "###maximising Sharpe ratio"
      ],
      "metadata": {
        "id": "xPD-vu_DZMsB"
      }
    },
    {
      "cell_type": "code",
      "source": [
        "def ret_matrix(stocks,date):\n",
        "  returns = dailypct[:date][-251:]\n",
        "  negative_returns=returns[returns<0]\n",
        "  negative_returns=negative_returns.replace(np.nan,0)\n",
        "  negative_returns = negative_returns[stocks].T\n",
        "  mean_returns = returns.mean()\n",
        "  mean_returns = mean_returns[stocks]\n",
        "  returns = returns[stocks].T\n",
        "  return np.cov(returns),mean_returns,np.cov(negative_returns)\n",
        "\n",
        "def negativeSR(weights,meanReturns,cov_matrix,riskfreerate=0):\n",
        "  preturns, pstd = portfolio_performance(meanReturns,cov_matrix,weights)\n",
        "  return -(preturns-riskfreerate)/pstd\n",
        "\n",
        "def maxSR(meanReturns,cov_matrix,riskfreerate = 0,constraintset= (0,1)):\n",
        "  \"minimise the negative sharpe ratio\"\n",
        "  args = (meanReturns,cov_matrix,riskfreerate)\n",
        "  constraints = ({'type':'eq','fun':lambda x: np.sum(x)-1})\n",
        "  bounds = tuple(constraintset for asset in range(10))\n",
        "  result = sc.minimize(negativeSR,np.ones(10)*0.1,args=args,method = 'SLSQP',bounds=bounds,constraints=constraints)\n",
        "  return result\n",
        "\n",
        "def maximising_sharpe_ratio(date):\n",
        "  current_portfolio = mtl.loc[date:,get_top2(date)][1:2]\n",
        "  cov_matrix , meanReturns,sortino_matrix = ret_matrix(get_top2(date),date)\n",
        "  result=maxSR(meanReturns,cov_matrix)\n",
        "  final_weights=np.round(result['x'],4)\n",
        "  finalreturn = np.sum(current_portfolio*final_weights,axis=1)\n",
        "  return finalreturn[0]\n",
        "\n",
        "def maximising_sortino_ratio(date):\n",
        "  current_portfolio = mtl.loc[date:,get_top2(date)][1:2]\n",
        "  cov_matrix , meanReturns,sortino_matrix = ret_matrix(get_top2(date),date)\n",
        "  result=maxSR(meanReturns,sortino_matrix)\n",
        "  final_weights=np.round(result['x'],4)\n",
        "  finalreturn = np.sum(current_portfolio*final_weights,axis=1)\n",
        "  return finalreturn[0]"
      ],
      "metadata": {
        "id": "cd8XYOgeXv20"
      },
      "execution_count": null,
      "outputs": []
    },
    {
      "cell_type": "markdown",
      "source": [
        "###Minimising variance"
      ],
      "metadata": {
        "id": "ED60o0eXZT2h"
      }
    },
    {
      "cell_type": "code",
      "source": [
        "def mean_variance(weights,meanReturns,cov_matrix):\n",
        "  mean_var_returns, mean_var_std = portfolio_performance(meanReturns,cov_matrix,weights)\n",
        "  return mean_var_std\n",
        "\n",
        "def MV_portfolio(meanReturns,cov_matrix,constraintset= (0,1)):\n",
        "  \"minimise the negative sharpe ratio\"\n",
        "  args = (meanReturns,cov_matrix)\n",
        "  constraints = ({'type':'eq','fun':lambda x: np.sum(x)-1})\n",
        "  bounds = tuple(constraintset for asset in range(10))\n",
        "  result = sc.minimize(mean_variance,np.ones(10)*0.1,args=args,method = 'SLSQP',bounds=bounds,constraints=constraints)\n",
        "  return result\n",
        "\n",
        "def minimise_variance(date):\n",
        "  current_portfolio = mtl.loc[date:,get_top2(date)][1:2]\n",
        "  cov_matrix , meanReturns,sortino_matrix = ret_matrix(get_top2(date),date)\n",
        "  result_mv = MV_portfolio(meanReturns,sortino_matrix)\n",
        "  final_weights_mv=np.round(result_mv['x'],4)\n",
        "  finalreturn_mv = np.sum(current_portfolio*final_weights_mv,axis=1)\n",
        "  return finalreturn_mv[0]\n",
        "\n",
        "def minimise_downside_var(date):\n",
        "  current_portfolio = mtl.loc[date:,get_top2(date)][1:2]\n",
        "  cov_matrix , meanReturns,sortino_matrix = ret_matrix(get_top2(date),date)\n",
        "  result_mv = MV_portfolio(meanReturns,cov_matrix)\n",
        "  final_weights_mv=np.round(result_mv['x'],4)\n",
        "  finalreturn_mv = np.sum(current_portfolio*final_weights_mv,axis=1)\n",
        "  return finalreturn_mv[0]  "
      ],
      "metadata": {
        "id": "2Jxw1bcxZWeW"
      },
      "execution_count": null,
      "outputs": []
    },
    {
      "cell_type": "code",
      "source": [
        "mtl.index[0:13]"
      ],
      "metadata": {
        "colab": {
          "base_uri": "https://localhost:8080/"
        },
        "id": "_kfLCQq2ZuE4",
        "outputId": "1432b868-36f6-44f1-e11e-f7c6f0be8204"
      },
      "execution_count": null,
      "outputs": [
        {
          "output_type": "execute_result",
          "data": {
            "text/plain": [
              "DatetimeIndex(['2010-01-31', '2010-02-28', '2010-03-31', '2010-04-30',\n",
              "               '2010-05-31', '2010-06-30', '2010-07-31', '2010-08-31',\n",
              "               '2010-09-30', '2010-10-31', '2010-11-30', '2010-12-31',\n",
              "               '2011-01-31'],\n",
              "              dtype='datetime64[ns]', name='Date', freq='M')"
            ]
          },
          "metadata": {},
          "execution_count": 72
        }
      ]
    },
    {
      "cell_type": "code",
      "source": [
        "SR_returns = []\n",
        "for date in mtl.index[11:-1]:\n",
        "  SR_returns.append(maximising_sharpe_ratio(date))"
      ],
      "metadata": {
        "id": "t3NMMQzVZayq"
      },
      "execution_count": null,
      "outputs": []
    },
    {
      "cell_type": "code",
      "source": [
        "strat3=pd.Series(SR_returns,index=mtl.index[12:])\n",
        "strat4=pd.Series([i - 0.003 for i in SR_returns],index=mtl.index[12:])"
      ],
      "metadata": {
        "id": "bIBuQ0PaTOgj"
      },
      "execution_count": null,
      "outputs": []
    },
    {
      "cell_type": "code",
      "source": [
        "MV_returns = []\n",
        "for date in mtl.index[11:-1]:\n",
        "  MV_returns.append(minimise_variance(date))"
      ],
      "metadata": {
        "id": "rhF3Ey4LaFNt"
      },
      "execution_count": null,
      "outputs": []
    },
    {
      "cell_type": "code",
      "source": [
        "strat5=pd.Series(MV_returns,index=mtl.index[12:])\n",
        "strat6=pd.Series([i - 0.003 for i in MV_returns],index=mtl.index[12:])"
      ],
      "metadata": {
        "id": "z92EypiKaXdV"
      },
      "execution_count": null,
      "outputs": []
    },
    {
      "cell_type": "code",
      "source": [
        "(strat1.cumprod()*100).plot()\n",
        "(strat3.cumprod()*100).plot()\n",
        "(strat5.cumprod()*100).plot()\n",
        "(sp500_df.cumprod()*100).plot()\n",
        "plt.legend(['EQUAL','Max Sharpe','Min Var','NASDAQ']);"
      ],
      "metadata": {
        "colab": {
          "base_uri": "https://localhost:8080/",
          "height": 279
        },
        "id": "PkRli-WEUv96",
        "outputId": "c4086afc-0894-4052-f294-4f30ed9e070d"
      },
      "execution_count": null,
      "outputs": [
        {
          "output_type": "display_data",
          "data": {
            "text/plain": [
              "<Figure size 432x288 with 1 Axes>"
            ],
            "image/png": "[encoded data removed]"
          },
          "metadata": {
            "needs_background": "light"
          }
        }
      ]
    },
    {
      "cell_type": "code",
      "source": [
        "strat2.cumprod().plot()\n",
        "strat4.cumprod().plot()\n",
        "strat6.cumprod().plot()\n",
        "sp500_df.cumprod().plot()\n",
        "plt.legend(['EQUAL','Max Sharpe','Min Var','NASDAQ']);"
      ],
      "metadata": {
        "colab": {
          "base_uri": "https://localhost:8080/",
          "height": 279
        },
        "id": "ISHSgbWgXAA4",
        "outputId": "c663ea22-84ac-4ca4-bacd-995f6a05328b"
      },
      "execution_count": null,
      "outputs": [
        {
          "output_type": "display_data",
          "data": {
            "text/plain": [
              "<Figure size 432x288 with 1 Axes>"
            ],
            "image/png": "[encoded data removed]"
          },
          "metadata": {
            "needs_background": "light"
          }
        }
      ]
    },
    {
      "cell_type": "code",
      "source": [
        "def drawdown(data):\n",
        "  Roll_Max = data['Adj Close'].cummax()\n",
        "  Daily_Drawdown = data['Adj Close']/Roll_Max - 1.0\n",
        "  Max_Daily_Drawdown = Daily_Drawdown.cummin()\n",
        "  return Max_Daily_Drawdown\n",
        "\n"
      ],
      "metadata": {
        "id": "daD5zjb2stBL"
      },
      "execution_count": null,
      "outputs": []
    }
  ]
}