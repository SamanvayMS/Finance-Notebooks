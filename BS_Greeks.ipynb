{
  "cells": [
    {
      "attachments": {},
      "cell_type": "markdown",
      "metadata": {},
      "source": [
        "# option greeks \n",
        "computes option greeks analytically and compare sit with the value obtained from the built in function in py_vollib"
      ]
    },
    {
      "cell_type": "code",
      "execution_count": 1,
      "metadata": {
        "colab": {
          "base_uri": "https://localhost:8080/"
        },
        "id": "IfB0ibpxdDRf",
        "outputId": "e59e6f62-fa92-459d-bc17-07e70c8672fc"
      },
      "outputs": [],
      "source": [
        "# pip install py_vollib\n",
        "\n",
        "from py_vollib.black_scholes import black_scholes as bs\n",
        "from py_vollib.black_scholes.greeks.analytical import delta, gamma, vega, theta, rho"
      ]
    },
    {
      "cell_type": "code",
      "execution_count": 2,
      "metadata": {
        "id": "LLpiu4U_bP1X"
      },
      "outputs": [],
      "source": [
        "import numpy as np\n",
        "from scipy.stats import norm\n",
        "\n",
        "#define variables\n",
        "r = 0.01\n",
        "S = 30\n",
        "K = 40\n",
        "T = 240/365\n",
        "sigma = 0.30\n",
        "\n",
        "def black_scholes(r,S,K,T,sigma,type=\"c\"):\n",
        "  #Calculate black scholes price of the option\n",
        "  d1 = (np.log(S/K) + (r + sigma**2/2)*T)/(sigma*np.sqrt(T))\n",
        "  d2 = d1 - sigma*np.sqrt(T)\n",
        "  try:\n",
        "    if type == \"c\":\n",
        "      price = S*norm.cdf(d1,0,1) - K*np.exp(-r*T)*norm.cdf(d2,0,1)\n",
        "    if type == \"p\":\n",
        "      price = - S*norm.cdf(-d1,0,1) + K*np.exp(-r*T)*norm.cdf(-d2,0,1)\n",
        "    return price, bs(type, S, K, T, r, sigma)\n",
        "  except:\n",
        "    print(\"please confirm options type, either 'p' for put or 'c' for call. \")\n"
      ]
    },
    {
      "cell_type": "code",
      "execution_count": 3,
      "metadata": {
        "colab": {
          "base_uri": "https://localhost:8080/"
        },
        "id": "pKtSqYdTe_lr",
        "outputId": "9c1f7a4d-3bbf-43bd-9593-af3b4192b2dd"
      },
      "outputs": [
        {
          "name": "stdout",
          "output_type": "stream",
          "text": [
            "option_price: (10.251133491653508, 10.2511334916535)\n"
          ]
        }
      ],
      "source": [
        "print(\"option_price:\", black_scholes(r,S,K,T,sigma,'p'))"
      ]
    },
    {
      "attachments": {},
      "cell_type": "markdown",
      "metadata": {
        "id": "lPWiLnYof8JX"
      },
      "source": [
        "### DELTA\n",
        "\n",
        "delta measures the rate of change of the theoretical option value with respect to changes in the underlying asset's price"
      ]
    },
    {
      "cell_type": "code",
      "execution_count": 4,
      "metadata": {
        "id": "TVKzzNrqf5vT"
      },
      "outputs": [],
      "source": [
        "def delta_calc(r,S,K,T,sigma,type=\"c\"):\n",
        "  #Calculate delta of an option\n",
        "  d1 = (np.log(S/K) + (r + sigma**2/2)*T)/(sigma*np.sqrt(T))\n",
        "  d2 = d1 - sigma*np.sqrt(T)\n",
        "  try:\n",
        "    if type == \"c\":\n",
        "      value = norm.cdf(d1,0,1)\n",
        "    if type == \"p\":\n",
        "      value = - norm.cdf(-d1,0,1)\n",
        "    return value , delta(type, S, K, T, r, sigma)\n",
        "  except:\n",
        "    print(\"please confirm options type, either 'p' for put or 'c' for call. \")\n"
      ]
    },
    {
      "attachments": {},
      "cell_type": "markdown",
      "metadata": {
        "id": "EOF13rn-jBj9"
      },
      "source": [
        "### GAMMA\n",
        "gamma measures the rate of change in delta with respect to changes in the underlying.\n"
      ]
    },
    {
      "cell_type": "code",
      "execution_count": 5,
      "metadata": {
        "id": "LQgNlKptjQRc"
      },
      "outputs": [],
      "source": [
        "def gamma_calc(r,S,K,T,sigma,type=\"c\"):\n",
        "  #Calculate gamma of the option\n",
        "  d1 = (np.log(S/K) + (r + sigma**2/2)*T)/(sigma*np.sqrt(T))\n",
        "  d2 = d1 - sigma*np.sqrt(T)\n",
        "  try:\n",
        "    value = norm.pdf(d1,0,1)/(S*sigma*np.sqrt(T))\n",
        "    return value, gamma(type, S, K, T, r, sigma)\n",
        "  except:\n",
        "    print(\"please confirm options type, either 'p' for put or 'c' for call. \")\n"
      ]
    },
    {
      "attachments": {},
      "cell_type": "markdown",
      "metadata": {
        "id": "T-rB3_yMj2oZ"
      },
      "source": [
        "### VEGA\n",
        "vega measures sensitivity to volatility. vega is the derivative of the option value with respect to the volatility\n"
      ]
    },
    {
      "cell_type": "code",
      "execution_count": 6,
      "metadata": {
        "id": "9zFJwiZlkHVr"
      },
      "outputs": [],
      "source": [
        "def vega_calc(r,S,K,T,sigma,type=\"c\"):\n",
        "  #Calculate vega of the option\n",
        "  d1 = (np.log(S/K) + (r + sigma**2/2)*T)/(sigma*np.sqrt(T))\n",
        "  d2 = d1 - sigma*np.sqrt(T)\n",
        "  try:\n",
        "    value = S*norm.pdf(d1,0,1)*np.sqrt(T)\n",
        "    return value*0.01, vega(type, S, K, T, r, sigma)\n",
        "  except:\n",
        "    print(\"please confirm options type, either 'p' for put or 'c' for call. \")\n"
      ]
    },
    {
      "attachments": {},
      "cell_type": "markdown",
      "metadata": {
        "id": "2DzX4CiXki-z"
      },
      "source": [
        "### THETA\n",
        "theta measures the sensitivity of the value of the derivative to the passage of time "
      ]
    },
    {
      "cell_type": "code",
      "execution_count": 7,
      "metadata": {
        "id": "JGVSxnCKku5t"
      },
      "outputs": [],
      "source": [
        "def theta_calc(r,S,K,T,sigma,type=\"c\"):\n",
        "  #Calculate theta of the option\n",
        "  d1 = (np.log(S/K) + (r + sigma**2/2)*T)/(sigma*np.sqrt(T))\n",
        "  d2 = d1 - sigma*np.sqrt(T)\n",
        "  try:\n",
        "    if type == \"c\":\n",
        "      value = - S*norm.pdf(d1,0,1)*sigma/(2*T) - r*K*np.exp(-r*T)*norm.cdf(d2,0,1)\n",
        "    if type == \"p\":\n",
        "      value = - S*norm.pdf(d1,0,1)*sigma/(2*T) + r*K*np.exp(-r*T)*norm.cdf(-d2,0,1)\n",
        "    return value/365, theta(type, S, K, T, r, sigma)\n",
        "  except:\n",
        "    print(\"please confirm options type, either 'p' for put or 'c' for call. \")\n"
      ]
    },
    {
      "attachments": {},
      "cell_type": "markdown",
      "metadata": {
        "id": "i3hp1vfqloOY"
      },
      "source": [
        "### RHO\n",
        "rho measures the sensitivity to the interest rate\n"
      ]
    },
    {
      "cell_type": "code",
      "execution_count": 8,
      "metadata": {
        "id": "Nagc4VnflxSq"
      },
      "outputs": [],
      "source": [
        "def rho_calc(r,S,K,T,sigma,type=\"c\"):\n",
        "  #Calculate rho of the option\n",
        "  d1 = (np.log(S/K) + (r + sigma**2/2)*T)/(sigma*np.sqrt(T))\n",
        "  d2 = d1 - sigma*np.sqrt(T)\n",
        "  try:\n",
        "    if type == \"c\":\n",
        "      value = T*K*np.exp(-r*T)*norm.cdf(d2,0,1)\n",
        "    if type == \"p\":\n",
        "      value = - T*K*np.exp(-r*T)*norm.cdf(-d2,0,1)\n",
        "    return value*0.01, rho(type, S, K, T, r, sigma)\n",
        "  except:\n",
        "    print(\"please confirm options type, either 'p' for put or 'c' for call. \")\n"
      ]
    },
    {
      "attachments": {},
      "cell_type": "markdown",
      "metadata": {
        "id": "ZzgL2W85mQkp"
      },
      "source": [
        "### ALL VERIFIED"
      ]
    },
    {
      "cell_type": "code",
      "execution_count": 9,
      "metadata": {
        "colab": {
          "base_uri": "https://localhost:8080/"
        },
        "id": "0ZCDgMIdmUSo",
        "outputId": "cd75ce57-73fe-4417-d958-319131f1f1c8"
      },
      "outputs": [
        {
          "name": "stdout",
          "output_type": "stream",
          "text": [
            "option price:  [0.513, 0.513]\n",
            "delta:  [0.151, 0.151]\n",
            "gamma:  [0.032, 0.032]\n",
            "vega:  [0.057, 0.057]\n",
            "theta:  [-0.004, -0.004]\n",
            "rho:  [0.026, 0.026]\n"
          ]
        }
      ],
      "source": [
        "option_type=\"c\"\n",
        "\n",
        "print(\"option price: \", [round(x,3) for x in black_scholes(r, S, K, T, sigma, option_type)])\n",
        "print(\"delta: \", [round(x,3) for x in delta_calc(r, S, K, T, sigma, option_type)])\n",
        "print(\"gamma: \", [round(x,3) for x in gamma_calc(r, S, K, T, sigma, option_type)])\n",
        "print(\"vega: \", [round(x,3) for x in vega_calc(r, S, K, T, sigma, option_type)])\n",
        "print(\"theta: \", [round(x,3) for x in theta_calc(r, S, K, T, sigma, option_type)])\n",
        "print(\"rho: \", [round(x,3) for x in rho_calc(r, S, K, T, sigma, 'c')])"
      ]
    }
  ],
  "metadata": {
    "colab": {
      "provenance": []
    },
    "kernelspec": {
      "display_name": "venv",
      "language": "python",
      "name": "python3"
    },
    "language_info": {
      "codemirror_mode": {
        "name": "ipython",
        "version": 3
      },
      "file_extension": ".py",
      "mimetype": "text/x-python",
      "name": "python",
      "nbconvert_exporter": "python",
      "pygments_lexer": "ipython3",
      "version": "3.9.15"
    },
    "vscode": {
      "interpreter": {
        "hash": "9e4d78865620687f9286eb1a3f5edaf36ac915bab68a95e5183a365f1b9509d1"
      }
    }
  },
  "nbformat": 4,
  "nbformat_minor": 0
}
