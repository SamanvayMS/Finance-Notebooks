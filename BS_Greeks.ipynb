{
  "nbformat": 4,
  "nbformat_minor": 0,
  "metadata": {
    "colab": {
      "provenance": []
    },
    "kernelspec": {
      "name": "python3",
      "display_name": "Python 3"
    },
    "language_info": {
      "name": "python"
    }
  },
  "cells": [
    {
      "cell_type": "code",
      "source": [
        "!pip install py_vollib\n",
        "from py_vollib.black_scholes import black_scholes as bs\n",
        "from py_vollib.black_scholes.greeks.analytical import delta, gamma, vega, theta, rho"
      ],
      "metadata": {
        "colab": {
          "base_uri": "https://localhost:8080/"
        },
        "id": "IfB0ibpxdDRf",
        "outputId": "e59e6f62-fa92-459d-bc17-07e70c8672fc"
      },
      "execution_count": null,
      "outputs": [
        {
          "output_type": "stream",
          "name": "stdout",
          "text": [
            "Looking in indexes: https://pypi.org/simple, https://us-python.pkg.dev/colab-wheels/public/simple/\n",
            "Requirement already satisfied: py_vollib in /usr/local/lib/python3.8/dist-packages (1.0.1)\n",
            "Requirement already satisfied: pandas in /usr/local/lib/python3.8/dist-packages (from py_vollib) (1.3.5)\n",
            "Requirement already satisfied: py-lets-be-rational in /usr/local/lib/python3.8/dist-packages (from py_vollib) (1.0.1)\n",
            "Requirement already satisfied: numpy in /usr/local/lib/python3.8/dist-packages (from py_vollib) (1.21.6)\n",
            "Requirement already satisfied: simplejson in /usr/local/lib/python3.8/dist-packages (from py_vollib) (3.18.1)\n",
            "Requirement already satisfied: scipy in /usr/local/lib/python3.8/dist-packages (from py_vollib) (1.7.3)\n",
            "Requirement already satisfied: pytz>=2017.3 in /usr/local/lib/python3.8/dist-packages (from pandas->py_vollib) (2022.7)\n",
            "Requirement already satisfied: python-dateutil>=2.7.3 in /usr/local/lib/python3.8/dist-packages (from pandas->py_vollib) (2.8.2)\n",
            "Requirement already satisfied: six>=1.5 in /usr/local/lib/python3.8/dist-packages (from python-dateutil>=2.7.3->pandas->py_vollib) (1.15.0)\n"
          ]
        }
      ]
    },
    {
      "cell_type": "code",
      "execution_count": null,
      "metadata": {
        "id": "LLpiu4U_bP1X"
      },
      "outputs": [],
      "source": [
        "import numpy as np\n",
        "from scipy.stats import norm\n",
        "\n",
        "#define variables\n",
        "r = 0.01\n",
        "S = 30\n",
        "K = 40\n",
        "T = 240/365\n",
        "sigma = 0.30\n",
        "\n",
        "def black_scholes(r,S,K,T,sigma,type=\"c\"):\n",
        "  #Calculate black scholes price of the option\n",
        "  d1 = (np.log(S/K) + (r + sigma**2/2)*T)/(sigma*np.sqrt(T))\n",
        "  d2 = d1 - sigma*np.sqrt(T)\n",
        "  try:\n",
        "    if type == \"c\":\n",
        "      price = S*norm.cdf(d1,0,1) - K*np.exp(-r*T)*norm.cdf(d2,0,1)\n",
        "    if type == \"p\":\n",
        "      price = - S*norm.cdf(-d1,0,1) + K*np.exp(-r*T)*norm.cdf(-d2,0,1)\n",
        "    return price, bs(type, S, K, T, r, sigma)\n",
        "  except:\n",
        "    print(\"please confirm options type, either 'p' for put or 'c' for call. \")\n"
      ]
    },
    {
      "cell_type": "code",
      "source": [
        "print(\"option_price:\", black_scholes(r,S,K,T,sigma,'p'))"
      ],
      "metadata": {
        "colab": {
          "base_uri": "https://localhost:8080/"
        },
        "id": "pKtSqYdTe_lr",
        "outputId": "9c1f7a4d-3bbf-43bd-9593-af3b4192b2dd"
      },
      "execution_count": null,
      "outputs": [
        {
          "output_type": "stream",
          "name": "stdout",
          "text": [
            "option_price: (10.251133491653508, 10.2511334916535)\n"
          ]
        }
      ]
    },
    {
      "cell_type": "markdown",
      "source": [
        "###DELTA\n",
        "\n",
        "delta measures the rate of change of the theoretical option value with respect to changes in the underlying asset's price"
      ],
      "metadata": {
        "id": "lPWiLnYof8JX"
      }
    },
    {
      "cell_type": "code",
      "source": [
        "def delta_calc(r,S,K,T,sigma,type=\"c\"):\n",
        "  #Calculate delta of an option\n",
        "  d1 = (np.log(S/K) + (r + sigma**2/2)*T)/(sigma*np.sqrt(T))\n",
        "  d2 = d1 - sigma*np.sqrt(T)\n",
        "  try:\n",
        "    if type == \"c\":\n",
        "      value = norm.cdf(d1,0,1)\n",
        "    if type == \"p\":\n",
        "      value = - norm.cdf(-d1,0,1)\n",
        "    return value , delta(type, S, K, T, r, sigma)\n",
        "  except:\n",
        "    print(\"please confirm options type, either 'p' for put or 'c' for call. \")\n"
      ],
      "metadata": {
        "id": "TVKzzNrqf5vT"
      },
      "execution_count": null,
      "outputs": []
    },
    {
      "cell_type": "markdown",
      "source": [
        "###GAMMA\n",
        "gamma measures the rate of change in delta with respect to changes in the underlying.\n"
      ],
      "metadata": {
        "id": "EOF13rn-jBj9"
      }
    },
    {
      "cell_type": "code",
      "source": [
        "def gamma_calc(r,S,K,T,sigma,type=\"c\"):\n",
        "  #Calculate gamma of the option\n",
        "  d1 = (np.log(S/K) + (r + sigma**2/2)*T)/(sigma*np.sqrt(T))\n",
        "  d2 = d1 - sigma*np.sqrt(T)\n",
        "  try:\n",
        "    value = norm.pdf(d1,0,1)/(S*sigma*np.sqrt(T))\n",
        "    return value, gamma(type, S, K, T, r, sigma)\n",
        "  except:\n",
        "    print(\"please confirm options type, either 'p' for put or 'c' for call. \")\n"
      ],
      "metadata": {
        "id": "LQgNlKptjQRc"
      },
      "execution_count": null,
      "outputs": []
    },
    {
      "cell_type": "markdown",
      "source": [
        "###VEGA\n",
        "vega measures sensitivity to volatility. vega is the derivative of the option value with respect to the volatility\n"
      ],
      "metadata": {
        "id": "T-rB3_yMj2oZ"
      }
    },
    {
      "cell_type": "code",
      "source": [
        "def vega_calc(r,S,K,T,sigma,type=\"c\"):\n",
        "  #Calculate vega of the option\n",
        "  d1 = (np.log(S/K) + (r + sigma**2/2)*T)/(sigma*np.sqrt(T))\n",
        "  d2 = d1 - sigma*np.sqrt(T)\n",
        "  try:\n",
        "    value = S*norm.pdf(d1,0,1)*np.sqrt(T)\n",
        "    return value*0.01, vega(type, S, K, T, r, sigma)\n",
        "  except:\n",
        "    print(\"please confirm options type, either 'p' for put or 'c' for call. \")\n"
      ],
      "metadata": {
        "id": "9zFJwiZlkHVr"
      },
      "execution_count": null,
      "outputs": []
    },
    {
      "cell_type": "markdown",
      "source": [
        "###THETA\n",
        "theta measures the sensitivity of the value of the derivative to the passage of time "
      ],
      "metadata": {
        "id": "2DzX4CiXki-z"
      }
    },
    {
      "cell_type": "code",
      "source": [
        "def theta_calc(r,S,K,T,sigma,type=\"c\"):\n",
        "  #Calculate theta of the option\n",
        "  d1 = (np.log(S/K) + (r + sigma**2/2)*T)/(sigma*np.sqrt(T))\n",
        "  d2 = d1 - sigma*np.sqrt(T)\n",
        "  try:\n",
        "    if type == \"c\":\n",
        "      value = - S*norm.pdf(d1,0,1)*sigma/(2*T) - r*K*np.exp(-r*T)*norm.cdf(d2,0,1)\n",
        "    if type == \"p\":\n",
        "      value = - S*norm.pdf(d1,0,1)*sigma/(2*T) + r*K*np.exp(-r*T)*norm.cdf(-d2,0,1)\n",
        "    return value/365, theta(type, S, K, T, r, sigma)\n",
        "  except:\n",
        "    print(\"please confirm options type, either 'p' for put or 'c' for call. \")\n"
      ],
      "metadata": {
        "id": "JGVSxnCKku5t"
      },
      "execution_count": null,
      "outputs": []
    },
    {
      "cell_type": "markdown",
      "source": [
        "###RHO\n",
        "rho measures the sensitivity to the interest rate\n"
      ],
      "metadata": {
        "id": "i3hp1vfqloOY"
      }
    },
    {
      "cell_type": "code",
      "source": [
        "def rho_calc(r,S,K,T,sigma,type=\"c\"):\n",
        "  #Calculate rho of the option\n",
        "  d1 = (np.log(S/K) + (r + sigma**2/2)*T)/(sigma*np.sqrt(T))\n",
        "  d2 = d1 - sigma*np.sqrt(T)\n",
        "  try:\n",
        "    if type == \"c\":\n",
        "      value = T*K*np.exp(-r*T)*norm.cdf(d2,0,1)\n",
        "    if type == \"p\":\n",
        "      value = - T*K*np.exp(-r*T)*norm.cdf(-d2,0,1)\n",
        "    return value*0.01, rho(type, S, K, T, r, sigma)\n",
        "  except:\n",
        "    print(\"please confirm options type, either 'p' for put or 'c' for call. \")\n"
      ],
      "metadata": {
        "id": "Nagc4VnflxSq"
      },
      "execution_count": null,
      "outputs": []
    },
    {
      "cell_type": "markdown",
      "source": [
        "###ALL VERIFIED"
      ],
      "metadata": {
        "id": "ZzgL2W85mQkp"
      }
    },
    {
      "cell_type": "code",
      "source": [
        "option_type=\"c\"\n",
        "\n",
        "print(\"option price: \", [round(x,3) for x in black_scholes(r, S, K, T, sigma, option_type)])\n",
        "print(\"delta: \", [round(x,3) for x in delta_calc(r, S, K, T, sigma, option_type)])\n",
        "print(\"gamma: \", [round(x,3) for x in gamma_calc(r, S, K, T, sigma, option_type)])\n",
        "print(\"vega: \", [round(x,3) for x in vega_calc(r, S, K, T, sigma, option_type)])\n",
        "print(\"theta: \", [round(x,3) for x in theta_calc(r, S, K, T, sigma, option_type)])\n",
        "print(\"rho: \", [round(x,3) for x in rho_calc(r, S, K, T, sigma, 'c')])"
      ],
      "metadata": {
        "colab": {
          "base_uri": "https://localhost:8080/"
        },
        "id": "0ZCDgMIdmUSo",
        "outputId": "cd75ce57-73fe-4417-d958-319131f1f1c8"
      },
      "execution_count": null,
      "outputs": [
        {
          "output_type": "stream",
          "name": "stdout",
          "text": [
            "option price:  [0.513, 0.513]\n",
            "delta:  [0.151, 0.151]\n",
            "gamma:  [0.032, 0.032]\n",
            "vega:  [0.057, 0.057]\n",
            "theta:  [-0.004, -0.004]\n",
            "rho:  [0.026, 0.026]\n"
          ]
        }
      ]
    }
  ]
}