{
 "cells": [
  {
   "attachments": {},
   "cell_type": "markdown",
   "metadata": {},
   "source": [
    "# Volatility Hypothesis"
   ]
  },
  {
   "attachments": {},
   "cell_type": "markdown",
   "metadata": {},
   "source": [
    "1. Appropriate garch model fit to price data can predict volatilty and price range for next 30 days \n",
    "    * parameters :- lookback period , garch model appropriately fit for every individual trade\n",
    "2. use rolling n period volatility to predict future volatility values \n",
    "    * choice of model - random forest, linear regression, SVM, XGboost, catboost or deep neural net "
   ]
  },
  {
   "attachments": {},
   "cell_type": "markdown",
   "metadata": {},
   "source": [
    "## Data for 2.\n",
    "### target variable \n",
    "* 30 period standard deviation(volatility)\n",
    "\n",
    "### Features \n",
    "* rolling 30 period volatility\n",
    "* returns \n",
    "* ATR\n",
    "* ADX\n"
   ]
  }
 ],
 "metadata": {
  "language_info": {
   "name": "python"
  },
  "orig_nbformat": 4
 },
 "nbformat": 4,
 "nbformat_minor": 2
}
